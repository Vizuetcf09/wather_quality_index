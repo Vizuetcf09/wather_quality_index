{
  "nbformat": 4,
  "nbformat_minor": 0,
  "metadata": {
    "colab": {
      "provenance": [],
      "toc_visible": true
    },
    "kernelspec": {
      "name": "python3",
      "display_name": "Python 3"
    },
    "language_info": {
      "name": "python"
    }
  },
  "cells": [
    {
      "cell_type": "markdown",
      "source": [
        "# **Monitoreo de la Calidad del Agua Mediante Algoritmos de Aprendizaje Automático**\n",
        "\n",
        "\n",
        "(Agregar descripción)"
      ],
      "metadata": {
        "id": "IFv18hov-xU2"
      }
    },
    {
      "cell_type": "markdown",
      "source": [
        "# Validación de los datos"
      ],
      "metadata": {
        "id": "L5GAKr1x3gx_"
      }
    },
    {
      "cell_type": "markdown",
      "source": [
        "### K-Folds Cross Validatión"
      ],
      "metadata": {
        "id": "UV2e8AIX3vLN"
      }
    },
    {
      "cell_type": "markdown",
      "source": [
        "### Debemos instalar algunas dependencias para leer el archivo \"xlsb\" con el comando \"!pip install pyxlsb\"\n",
        "(solo si es necesario)"
      ],
      "metadata": {
        "id": "sqy2U35_aTKq"
      }
    },
    {
      "cell_type": "code",
      "source": [
        "# instalar dependencias\n",
        "\n",
        "!pip install pyxlsb"
      ],
      "metadata": {
        "colab": {
          "base_uri": "https://localhost:8080/"
        },
        "id": "j4SlAz_5aEcg",
        "outputId": "168a7a9a-730f-488c-90f9-965831b35cd0"
      },
      "execution_count": 1,
      "outputs": [
        {
          "output_type": "stream",
          "name": "stdout",
          "text": [
            "Collecting pyxlsb\n",
            "  Downloading pyxlsb-1.0.10-py2.py3-none-any.whl.metadata (2.5 kB)\n",
            "Downloading pyxlsb-1.0.10-py2.py3-none-any.whl (23 kB)\n",
            "Installing collected packages: pyxlsb\n",
            "Successfully installed pyxlsb-1.0.10\n"
          ]
        }
      ]
    },
    {
      "cell_type": "markdown",
      "source": [
        "### Importamos las librerías"
      ],
      "metadata": {
        "id": "mkMq_NJBFI1u"
      }
    },
    {
      "cell_type": "code",
      "source": [
        "# librerias\n",
        "\n",
        "import pandas as pd\n",
        "import numpy as np\n",
        "\n",
        "# modulos\n",
        "\n",
        "from sklearn.tree import DecisionTreeRegressor\n",
        "\n",
        "from sklearn.model_selection import (cross_val_score, KFold)\n",
        "from sklearn.metrics import mean_squared_error\n",
        "\n",
        "import warnings\n",
        "warnings.filterwarnings(\"ignore\")"
      ],
      "metadata": {
        "id": "DQzPcgx887lE"
      },
      "execution_count": 2,
      "outputs": []
    },
    {
      "cell_type": "markdown",
      "source": [
        "### Creamos la conexión con Google\n",
        "\n",
        "(Solo si es necesario)"
      ],
      "metadata": {
        "id": "pooErrIXOTGW"
      }
    },
    {
      "cell_type": "code",
      "source": [
        "if __name__ == \"__main__\":\n",
        "\n",
        "    # creamos la conexión con google\n",
        "\n",
        "    from google.colab import drive\n",
        "    drive.mount('/content/drive')    # nobre de la conexion\n",
        "\n",
        "    # o subimos un archivo (si es necesario)\n",
        "\n",
        "    # from google.colab import files\n",
        "    # Uploaded = files.upload()"
      ],
      "metadata": {
        "id": "gDv1BFUaCjB-",
        "colab": {
          "base_uri": "https://localhost:8080/"
        },
        "outputId": "48c66187-de4e-4132-a829-817725226e0c"
      },
      "execution_count": 3,
      "outputs": [
        {
          "output_type": "stream",
          "name": "stdout",
          "text": [
            "Mounted at /content/drive\n"
          ]
        }
      ]
    },
    {
      "cell_type": "markdown",
      "source": [
        "### Creamos una variable con el nuevo archivo"
      ],
      "metadata": {
        "id": "A8YL1xFcOvI5"
      }
    },
    {
      "cell_type": "code",
      "source": [
        "    ## leemos los archivos\n",
        "\n",
        "    ### leemos el archivo y especificamos la hoja que usaremos como df\n",
        "    ch_dbo_1 = pd.read_excel('/content/drive/MyDrive/UAM/Calidad del agua /ica_sup_1.xlsx')\n",
        "\n",
        "    ## tratamiento de los valores atipicos y nulos\n",
        "\n",
        "    ### eliminar los valores nulos\n",
        "    ch_dbo_1_0 = ch_dbo_1.dropna()\n",
        "\n",
        "    ### cambia los valores atipicos por 0\n",
        "    ch_dbo_1_0_0 = ch_dbo_1_0.replace({'<30':30, '<3':3, '<2':2, '<10':10})\n",
        "    ### tamaño de los datos\n",
        "    print(ch_dbo_1.shape)\n",
        "    print(ch_dbo_1_0.shape)\n",
        "    # ### tipos de datos\n",
        "    print(ch_dbo_1_0_0.dtypes)\n",
        "    ### descripción del df\n",
        "    print(ch_dbo_1_0_0.describe())\n",
        "    ### eliminamos las columnas que no usaremos\n",
        "    ch_dbo_1_0_1 = ch_dbo_1_0_0.drop('SITIO', axis = 1)\n",
        "    print(ch_dbo_1_0_1)"
      ],
      "metadata": {
        "id": "lAEAkOY6HuB3",
        "colab": {
          "base_uri": "https://localhost:8080/"
        },
        "outputId": "3dcbd84f-e796-4f78-958d-08b5c50e6373"
      },
      "execution_count": 4,
      "outputs": [
        {
          "output_type": "stream",
          "name": "stdout",
          "text": [
            "(4341, 9)\n",
            "(2268, 9)\n",
            "SITIO                  object\n",
            "DBO_mg/L              float64\n",
            "DQO_mg/L              float64\n",
            "SST_mg/L              float64\n",
            "COLI_FEC_NMP_100mL    float64\n",
            "E_COLI_NMP_100mL      float64\n",
            "OD_PORC               float64\n",
            "SEMAFORO               object\n",
            "NUM_SEMAFORO            int64\n",
            "dtype: object\n",
            "          DBO_mg/L     DQO_mg/L     SST_mg/L  COLI_FEC_NMP_100mL  \\\n",
            "count  2268.000000  2268.000000  2268.000000        2.268000e+03   \n",
            "mean     22.481809    78.710625    50.311574        1.465129e+04   \n",
            "std      90.955348   253.712341   149.143927        9.360976e+04   \n",
            "min       2.000000    10.000000    10.000000        3.000000e+00   \n",
            "25%       2.000000    15.255000    11.000000        1.100000e+03   \n",
            "50%       2.972500    26.975000    24.000000        2.812500e+03   \n",
            "75%      10.866250    57.000000    52.000000        2.400000e+04   \n",
            "max    2550.960000  7632.000000  4276.000000        2.419600e+06   \n",
            "\n",
            "       E_COLI_NMP_100mL      OD_PORC  NUM_SEMAFORO  \n",
            "count      2.268000e+03  2268.000000   2268.000000  \n",
            "mean       9.580880e+03    68.966394      1.734127  \n",
            "std        8.089941e+04    28.332203      0.741569  \n",
            "min        3.000000e+00    10.000000      1.000000  \n",
            "25%        1.200000e+02    53.037500      1.000000  \n",
            "50%        5.185000e+02    73.850000      2.000000  \n",
            "75%        4.600000e+03    91.462500      2.000000  \n",
            "max        2.419600e+06   148.100000      3.000000  \n",
            "      DBO_mg/L  DQO_mg/L  SST_mg/L  COLI_FEC_NMP_100mL  E_COLI_NMP_100mL  \\\n",
            "0        2.000   15.3850    11.835                41.5              30.0   \n",
            "1        6.035   31.9928    33.125              3803.5             219.5   \n",
            "6        2.840   21.3200    10.000              1722.0              62.0   \n",
            "7        5.765   22.9900    18.000              4600.0            4600.0   \n",
            "8        9.625   43.5850    28.000             24000.0           24000.0   \n",
            "...        ...       ...       ...                 ...               ...   \n",
            "4329     3.750   40.8450    11.000               930.0             355.0   \n",
            "4330    15.000  102.5200    31.940             24000.0            4600.0   \n",
            "4331     3.400   29.8200    10.000              4600.0            1100.0   \n",
            "4332     2.610   36.6160    65.000              4600.0            1300.0   \n",
            "4336     2.210  140.0100    33.000                 4.0             230.0   \n",
            "\n",
            "      OD_PORC  SEMAFORO  NUM_SEMAFORO  \n",
            "0     100.400     Verde             3  \n",
            "1      96.550  Amarillo             1  \n",
            "6      98.200  Amarillo             1  \n",
            "7      53.500  Amarillo             1  \n",
            "8      34.975      Rojo             2  \n",
            "...       ...       ...           ...  \n",
            "4329   41.150      Rojo             2  \n",
            "4330   48.700      Rojo             2  \n",
            "4331   43.650  Amarillo             1  \n",
            "4332   61.000  Amarillo             1  \n",
            "4336   38.705      Rojo             2  \n",
            "\n",
            "[2268 rows x 8 columns]\n"
          ]
        }
      ]
    },
    {
      "cell_type": "markdown",
      "source": [
        "## Cross Validation (K-Folds)"
      ],
      "metadata": {
        "id": "-aM2TJVtqjJJ"
      }
    },
    {
      "cell_type": "code",
      "source": [
        "    ## preparamos los datos para cross validation\n",
        "\n",
        "    ### eliminamos las columnas que no cecesitamos\n",
        "    X = ch_dbo_1_0_1.drop(['SEMAFORO', 'NUM_SEMAFORO'], axis=1)\n",
        "    ### columna que vamos a predecir\n",
        "    y = ch_dbo_1_0_1['NUM_SEMAFORO']\n",
        "\n",
        "    ## cross validation\n",
        "\n",
        "    print('*'*64)\n",
        "    model = DecisionTreeRegressor()\n",
        "    ### Implementacion básica de Cross validation para calcular un score con MSE\n",
        "    score = cross_val_score(model, X, y, cv = 3, scoring='neg_mean_squared_error')\n",
        "    print('CROSS VALIDATION')\n",
        "    print(np.abs(np.mean(score)))"
      ],
      "metadata": {
        "colab": {
          "base_uri": "https://localhost:8080/"
        },
        "id": "C4XYIgwwqf7x",
        "outputId": "80d158be-6482-4a13-98c5-12125465d826"
      },
      "execution_count": 5,
      "outputs": [
        {
          "output_type": "stream",
          "name": "stdout",
          "text": [
            "****************************************************************\n",
            "CROSS VALIDATION\n",
            "0.09303350970017636\n"
          ]
        }
      ]
    },
    {
      "cell_type": "code",
      "source": [
        "    ## implementacion basica de cross validation\n",
        "\n",
        "    ### Cada elemento del array score es el error medio cuadratico\n",
        "    print('*'*64)\n",
        "    print('IMPLEMENTACION BÁSICA')\n",
        "    print('Los tres MSE fueron: ', score)\n",
        "    print('='*32)\n",
        "    print(np.mean(score))\n",
        "    print('El MSE promedio fue: ', np.abs(np.mean(score)))\n",
        "\n",
        "    ## implementacion de bajo nivel de cross validation\n",
        "\n",
        "    print('*'*64)\n",
        "    print('IMPLEMENTACION DE BAJO NIVEL')\n",
        "    ### numero de pliegues\n",
        "    print('='*32)\n",
        "    print('Numero de pliegues: ')\n",
        "    kf = KFold(n_splits = 3, shuffle = True, random_state = 42)\n",
        "    ## ciclo for\n",
        "    for train, test in kf.split(ch_dbo_1):\n",
        "        print('entrenamiento: ', train)\n",
        "        print('prueba: ', test)\n"
      ],
      "metadata": {
        "colab": {
          "base_uri": "https://localhost:8080/"
        },
        "id": "ruSHdfQ2bZM4",
        "outputId": "0095f806-e9f3-4706-eca5-c2dbe4efe044"
      },
      "execution_count": 6,
      "outputs": [
        {
          "output_type": "stream",
          "name": "stdout",
          "text": [
            "****************************************************************\n",
            "IMPLEMENTACION BÁSICA\n",
            "Los tres MSE fueron:  [-0.0952381  -0.0952381  -0.08862434]\n",
            "================================\n",
            "-0.09303350970017636\n",
            "El MSE promedio fue:  0.09303350970017636\n",
            "****************************************************************\n",
            "IMPLEMENTACION DE BAJO NIVEL\n",
            "================================\n",
            "Numero de pliegues: \n",
            "entrenamiento:  [   1    2    3 ... 4335 4336 4337]\n",
            "prueba:  [   0    6    7 ... 4338 4339 4340]\n",
            "entrenamiento:  [   0    3    4 ... 4338 4339 4340]\n",
            "prueba:  [   1    2   13 ... 4331 4333 4337]\n",
            "entrenamiento:  [   0    1    2 ... 4338 4339 4340]\n",
            "prueba:  [   3    4    5 ... 4334 4335 4336]\n"
          ]
        }
      ]
    }
  ]
}