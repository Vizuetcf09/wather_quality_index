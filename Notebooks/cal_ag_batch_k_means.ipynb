{
  "nbformat": 4,
  "nbformat_minor": 0,
  "metadata": {
    "colab": {
      "provenance": [],
      "toc_visible": true
    },
    "kernelspec": {
      "name": "python3",
      "display_name": "Python 3"
    },
    "language_info": {
      "name": "python"
    }
  },
  "cells": [
    {
      "cell_type": "markdown",
      "source": [
        "# **Monitoreo de la Calidad del Agua Mediante Algoritmos de Aprendizaje Automático**\n",
        "\n",
        "\n",
        "(Agregar descripción)"
      ],
      "metadata": {
        "id": "IFv18hov-xU2"
      }
    },
    {
      "cell_type": "markdown",
      "source": [
        "### Debemos instalar algunas dependencias para leer el archivo \"xlsb\" con el comando \"!pip install pyxlsb\"\n",
        "(solo si es necesario)"
      ],
      "metadata": {
        "id": "sqy2U35_aTKq"
      }
    },
    {
      "cell_type": "code",
      "source": [
        "# instalar dependencias\n",
        "\n",
        "!pip install pyxlsb"
      ],
      "metadata": {
        "colab": {
          "base_uri": "https://localhost:8080/"
        },
        "id": "j4SlAz_5aEcg",
        "outputId": "fec3ae62-5f57-4c2f-a63d-652b8a30b589"
      },
      "execution_count": 1,
      "outputs": [
        {
          "output_type": "stream",
          "name": "stdout",
          "text": [
            "Collecting pyxlsb\n",
            "  Downloading pyxlsb-1.0.10-py2.py3-none-any.whl.metadata (2.5 kB)\n",
            "Downloading pyxlsb-1.0.10-py2.py3-none-any.whl (23 kB)\n",
            "Installing collected packages: pyxlsb\n",
            "Successfully installed pyxlsb-1.0.10\n"
          ]
        }
      ]
    },
    {
      "cell_type": "markdown",
      "source": [
        "### Importamos las librerías"
      ],
      "metadata": {
        "id": "mkMq_NJBFI1u"
      }
    },
    {
      "cell_type": "code",
      "source": [
        "# librerias\n",
        "\n",
        "import numpy as np\n",
        "import pandas as pd\n",
        "import seaborn as sns\n",
        "import matplotlib.pyplot as plt\n",
        "\n",
        "# modulos\n",
        "\n",
        "from seaborn import palettes\n",
        "from sklearn.cluster import MiniBatchKMeans\n",
        "\n",
        "# import warnings\n",
        "# warnings.filterwarnings(\"ignore\")"
      ],
      "metadata": {
        "id": "DQzPcgx887lE"
      },
      "execution_count": 2,
      "outputs": []
    },
    {
      "cell_type": "markdown",
      "source": [
        "### Creamos la conexión con Google\n",
        "\n",
        "(Solo si es necesario)"
      ],
      "metadata": {
        "id": "pooErrIXOTGW"
      }
    },
    {
      "cell_type": "code",
      "source": [
        "if __name__ == \"__main__\":\n",
        "\n",
        "    # creamos la conexión con google\n",
        "\n",
        "    from google.colab import drive\n",
        "    drive.mount('/content/drive')    # nobre de la conexion\n",
        "\n",
        "    # o subimos un archivo (si es necesario)\n",
        "\n",
        "    # from google.colab import files\n",
        "    # Uploaded = files.upload()"
      ],
      "metadata": {
        "id": "gDv1BFUaCjB-",
        "colab": {
          "base_uri": "https://localhost:8080/"
        },
        "outputId": "48a9eca9-2d00-413f-ba13-43b01ac6e2ad"
      },
      "execution_count": 3,
      "outputs": [
        {
          "output_type": "stream",
          "name": "stdout",
          "text": [
            "Mounted at /content/drive\n"
          ]
        }
      ]
    },
    {
      "cell_type": "markdown",
      "source": [
        "### Creamos una variable con el nuevo archivo"
      ],
      "metadata": {
        "id": "A8YL1xFcOvI5"
      }
    },
    {
      "cell_type": "code",
      "source": [
        "    ## leemos los archivos\n",
        "\n",
        "    ### leemos el archivo y especificamos la hoja que usaremos como df\n",
        "    ch_dbo_1 = pd.read_excel('/content/drive/MyDrive/UAM/Calidad del agua /ica_sup_1.xlsx', sheet_name = 'CASUP_2012-2021')\n",
        "\n",
        "    ## eliminamos las columnas innecesarias"
      ],
      "metadata": {
        "id": "lAEAkOY6HuB3"
      },
      "execution_count": 4,
      "outputs": []
    },
    {
      "cell_type": "code",
      "source": [
        "    ## tratamiento de los valores atipicos y nulos\n",
        "\n",
        "    ### eliminar los valores nulos\n",
        "    ch_dbo_1_0 = ch_dbo_1.dropna()\n",
        "\n",
        "    ### cambia los valores atipicos por 0\n",
        "    ch_dbo_1_0_0 = ch_dbo_1_0.replace({'<30':30, '<3':3, '<2':2, '<10':10})\n",
        "    ### tamaño de los datos\n",
        "    print(ch_dbo_1.shape)\n",
        "    print(ch_dbo_1_0.shape)\n",
        "    # ### tipos de datos\n",
        "    print(ch_dbo_1_0_0.dtypes)\n",
        "    ### descripción del df\n",
        "    print(ch_dbo_1_0_0.describe())\n",
        "    ### eliminamos las columnas que no usaremos\n",
        "    ch_dbo_1_0_1 = ch_dbo_1_0_0.drop('SITIO', axis = 1)\n",
        "    print(ch_dbo_1_0_1)"
      ],
      "metadata": {
        "id": "XHCoxWpL_TVI",
        "colab": {
          "base_uri": "https://localhost:8080/"
        },
        "outputId": "e89f5c5b-77ba-4d95-eb58-5648f6ac179c"
      },
      "execution_count": 5,
      "outputs": [
        {
          "output_type": "stream",
          "name": "stdout",
          "text": [
            "(4341, 9)\n",
            "(2268, 9)\n",
            "SITIO                  object\n",
            "DBO_mg/L              float64\n",
            "DQO_mg/L              float64\n",
            "SST_mg/L              float64\n",
            "COLI_FEC_NMP_100mL    float64\n",
            "E_COLI_NMP_100mL      float64\n",
            "OD_PORC               float64\n",
            "SEMAFORO               object\n",
            "NUM_SEMAFORO            int64\n",
            "dtype: object\n",
            "          DBO_mg/L     DQO_mg/L     SST_mg/L  COLI_FEC_NMP_100mL  \\\n",
            "count  2268.000000  2268.000000  2268.000000        2.268000e+03   \n",
            "mean     22.481809    78.710625    50.311574        1.465129e+04   \n",
            "std      90.955348   253.712341   149.143927        9.360976e+04   \n",
            "min       2.000000    10.000000    10.000000        3.000000e+00   \n",
            "25%       2.000000    15.255000    11.000000        1.100000e+03   \n",
            "50%       2.972500    26.975000    24.000000        2.812500e+03   \n",
            "75%      10.866250    57.000000    52.000000        2.400000e+04   \n",
            "max    2550.960000  7632.000000  4276.000000        2.419600e+06   \n",
            "\n",
            "       E_COLI_NMP_100mL      OD_PORC  NUM_SEMAFORO  \n",
            "count      2.268000e+03  2268.000000   2268.000000  \n",
            "mean       9.580880e+03    68.966394      1.734127  \n",
            "std        8.089941e+04    28.332203      0.741569  \n",
            "min        3.000000e+00    10.000000      1.000000  \n",
            "25%        1.200000e+02    53.037500      1.000000  \n",
            "50%        5.185000e+02    73.850000      2.000000  \n",
            "75%        4.600000e+03    91.462500      2.000000  \n",
            "max        2.419600e+06   148.100000      3.000000  \n",
            "      DBO_mg/L  DQO_mg/L  SST_mg/L  COLI_FEC_NMP_100mL  E_COLI_NMP_100mL  \\\n",
            "0        2.000   15.3850    11.835                41.5              30.0   \n",
            "1        6.035   31.9928    33.125              3803.5             219.5   \n",
            "6        2.840   21.3200    10.000              1722.0              62.0   \n",
            "7        5.765   22.9900    18.000              4600.0            4600.0   \n",
            "8        9.625   43.5850    28.000             24000.0           24000.0   \n",
            "...        ...       ...       ...                 ...               ...   \n",
            "4329     3.750   40.8450    11.000               930.0             355.0   \n",
            "4330    15.000  102.5200    31.940             24000.0            4600.0   \n",
            "4331     3.400   29.8200    10.000              4600.0            1100.0   \n",
            "4332     2.610   36.6160    65.000              4600.0            1300.0   \n",
            "4336     2.210  140.0100    33.000                 4.0             230.0   \n",
            "\n",
            "      OD_PORC  SEMAFORO  NUM_SEMAFORO  \n",
            "0     100.400     Verde             3  \n",
            "1      96.550  Amarillo             1  \n",
            "6      98.200  Amarillo             1  \n",
            "7      53.500  Amarillo             1  \n",
            "8      34.975      Rojo             2  \n",
            "...       ...       ...           ...  \n",
            "4329   41.150      Rojo             2  \n",
            "4330   48.700      Rojo             2  \n",
            "4331   43.650  Amarillo             1  \n",
            "4332   61.000  Amarillo             1  \n",
            "4336   38.705      Rojo             2  \n",
            "\n",
            "[2268 rows x 8 columns]\n"
          ]
        },
        {
          "output_type": "stream",
          "name": "stderr",
          "text": [
            "<ipython-input-5-7701cbca44ac>:7: FutureWarning: Downcasting behavior in `replace` is deprecated and will be removed in a future version. To retain the old behavior, explicitly call `result.infer_objects(copy=False)`. To opt-in to the future behavior, set `pd.set_option('future.no_silent_downcasting', True)`\n",
            "  ch_dbo_1_0_0 = ch_dbo_1_0.replace({'<30':30, '<3':3, '<2':2, '<10':10})\n"
          ]
        }
      ]
    },
    {
      "cell_type": "markdown",
      "source": [
        "## Bach K-Means"
      ],
      "metadata": {
        "id": "-aM2TJVtqjJJ"
      }
    },
    {
      "cell_type": "code",
      "source": [
        "    ## batch k-means\n",
        "\n",
        "    ###  eliminamos las\n",
        "    X = ch_dbo_1_0_1.drop('SEMAFORO', axis = 1)\n",
        "\n",
        "    kmeans = MiniBatchKMeans(n_clusters = 3,batch_size = 2).fit(X)\n",
        "\n",
        "    print('Total de centros: ', len(kmeans.cluster_centers_))\n",
        "    print('*'*64)\n",
        "    print(kmeans.predict(X))\n",
        "\n",
        "    ch_dbo_1_0_1['GROUP'] = kmeans.predict(X)\n",
        "\n",
        "    print(ch_dbo_1_0_1)"
      ],
      "metadata": {
        "id": "lEl0JElmr-Bw",
        "colab": {
          "base_uri": "https://localhost:8080/"
        },
        "outputId": "024758d7-020d-49b6-9ef9-0cb6d627da3c"
      },
      "execution_count": 16,
      "outputs": [
        {
          "output_type": "stream",
          "name": "stdout",
          "text": [
            "Total de centros:  3\n",
            "****************************************************************\n",
            "[0 0 0 ... 0 0 0]\n",
            "      DBO_mg/L  DQO_mg/L  SST_mg/L  COLI_FEC_NMP_100mL  E_COLI_NMP_100mL  \\\n",
            "0        2.000   15.3850    11.835                41.5              30.0   \n",
            "1        6.035   31.9928    33.125              3803.5             219.5   \n",
            "6        2.840   21.3200    10.000              1722.0              62.0   \n",
            "7        5.765   22.9900    18.000              4600.0            4600.0   \n",
            "8        9.625   43.5850    28.000             24000.0           24000.0   \n",
            "...        ...       ...       ...                 ...               ...   \n",
            "4329     3.750   40.8450    11.000               930.0             355.0   \n",
            "4330    15.000  102.5200    31.940             24000.0            4600.0   \n",
            "4331     3.400   29.8200    10.000              4600.0            1100.0   \n",
            "4332     2.610   36.6160    65.000              4600.0            1300.0   \n",
            "4336     2.210  140.0100    33.000                 4.0             230.0   \n",
            "\n",
            "      OD_PORC  SEMAFORO  NUM_SEMAFORO  GROUP  \n",
            "0     100.400     Verde             3      0  \n",
            "1      96.550  Amarillo             1      0  \n",
            "6      98.200  Amarillo             1      0  \n",
            "7      53.500  Amarillo             1      0  \n",
            "8      34.975      Rojo             2      2  \n",
            "...       ...       ...           ...    ...  \n",
            "4329   41.150      Rojo             2      0  \n",
            "4330   48.700      Rojo             2      1  \n",
            "4331   43.650  Amarillo             1      0  \n",
            "4332   61.000  Amarillo             1      0  \n",
            "4336   38.705      Rojo             2      0  \n",
            "\n",
            "[2268 rows x 9 columns]\n"
          ]
        }
      ]
    },
    {
      "cell_type": "markdown",
      "source": [
        "# Exportamos el archivo con las predicciones"
      ],
      "metadata": {
        "id": "zkBr2G9GPARf"
      }
    },
    {
      "cell_type": "code",
      "source": [
        "# ch_dbo_1_0_1.to_csv('ind_ica.csv')\n",
        "\n",
        "# from google.colab import files\n",
        "# files.download('ind_ica.csv')"
      ],
      "metadata": {
        "id": "TycFHS8xESCj",
        "colab": {
          "base_uri": "https://localhost:8080/",
          "height": 17
        },
        "outputId": "3b69ab97-53ab-4fa5-8176-c37334fa7378"
      },
      "execution_count": 9,
      "outputs": [
        {
          "output_type": "display_data",
          "data": {
            "text/plain": [
              "<IPython.core.display.Javascript object>"
            ],
            "application/javascript": [
              "\n",
              "    async function download(id, filename, size) {\n",
              "      if (!google.colab.kernel.accessAllowed) {\n",
              "        return;\n",
              "      }\n",
              "      const div = document.createElement('div');\n",
              "      const label = document.createElement('label');\n",
              "      label.textContent = `Downloading \"${filename}\": `;\n",
              "      div.appendChild(label);\n",
              "      const progress = document.createElement('progress');\n",
              "      progress.max = size;\n",
              "      div.appendChild(progress);\n",
              "      document.body.appendChild(div);\n",
              "\n",
              "      const buffers = [];\n",
              "      let downloaded = 0;\n",
              "\n",
              "      const channel = await google.colab.kernel.comms.open(id);\n",
              "      // Send a message to notify the kernel that we're ready.\n",
              "      channel.send({})\n",
              "\n",
              "      for await (const message of channel.messages) {\n",
              "        // Send a message to notify the kernel that we're ready.\n",
              "        channel.send({})\n",
              "        if (message.buffers) {\n",
              "          for (const buffer of message.buffers) {\n",
              "            buffers.push(buffer);\n",
              "            downloaded += buffer.byteLength;\n",
              "            progress.value = downloaded;\n",
              "          }\n",
              "        }\n",
              "      }\n",
              "      const blob = new Blob(buffers, {type: 'application/binary'});\n",
              "      const a = document.createElement('a');\n",
              "      a.href = window.URL.createObjectURL(blob);\n",
              "      a.download = filename;\n",
              "      div.appendChild(a);\n",
              "      a.click();\n",
              "      div.remove();\n",
              "    }\n",
              "  "
            ]
          },
          "metadata": {}
        },
        {
          "output_type": "display_data",
          "data": {
            "text/plain": [
              "<IPython.core.display.Javascript object>"
            ],
            "application/javascript": [
              "download(\"download_b8898ffb-a550-4e34-91f4-3819bd3369f7\", \"ind_ica.csv\", 121699)"
            ]
          },
          "metadata": {}
        }
      ]
    }
  ]
}