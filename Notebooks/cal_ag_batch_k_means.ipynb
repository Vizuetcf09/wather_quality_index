{
  "nbformat": 4,
  "nbformat_minor": 0,
  "metadata": {
    "colab": {
      "provenance": []
    },
    "kernelspec": {
      "name": "python3",
      "display_name": "Python 3"
    },
    "language_info": {
      "name": "python"
    }
  },
  "cells": [
    {
      "cell_type": "markdown",
      "source": [
        "# **Monitoreo de la Calidad del Agua Mediante Algoritmos de Aprendizaje Automático**\n",
        "\n",
        "\n",
        "(Agregar descripción)"
      ],
      "metadata": {
        "id": "IFv18hov-xU2"
      }
    },
    {
      "cell_type": "markdown",
      "source": [
        "### Debemos instalar algunas dependencias para leer el archivo \"xlsb\" con el comando \"!pip install pyxlsb\"\n",
        "(solo si es necesario)"
      ],
      "metadata": {
        "id": "sqy2U35_aTKq"
      }
    },
    {
      "cell_type": "code",
      "source": [
        "# instalar dependencias\n",
        "\n",
        "!pip install pyxlsb"
      ],
      "metadata": {
        "colab": {
          "base_uri": "https://localhost:8080/"
        },
        "id": "j4SlAz_5aEcg",
        "outputId": "7cd89e7d-50a7-409d-c555-2ad159e1a89c"
      },
      "execution_count": null,
      "outputs": [
        {
          "output_type": "stream",
          "name": "stdout",
          "text": [
            "Looking in indexes: https://pypi.org/simple, https://us-python.pkg.dev/colab-wheels/public/simple/\n",
            "Collecting pyxlsb\n",
            "  Downloading pyxlsb-1.0.10-py2.py3-none-any.whl (23 kB)\n",
            "Installing collected packages: pyxlsb\n",
            "Successfully installed pyxlsb-1.0.10\n"
          ]
        }
      ]
    },
    {
      "cell_type": "markdown",
      "source": [
        "### Importamos las librerías"
      ],
      "metadata": {
        "id": "mkMq_NJBFI1u"
      }
    },
    {
      "cell_type": "code",
      "source": [
        "# librerias\n",
        "\n",
        "import numpy as np\n",
        "import pandas as pd\n",
        "import seaborn as sns\n",
        "import matplotlib.pyplot as plt\n",
        "\n",
        "# modulos\n",
        "\n",
        "from seaborn import palettes\n",
        "from sklearn.cluster import MiniBatchKMeans\n",
        "\n",
        "# import warnings\n",
        "# warnings.filterwarnings(\"ignore\")"
      ],
      "metadata": {
        "id": "DQzPcgx887lE"
      },
      "execution_count": null,
      "outputs": []
    },
    {
      "cell_type": "markdown",
      "source": [
        "### Creamos la conexión con Google\n",
        "\n",
        "(Solo si es necesario)"
      ],
      "metadata": {
        "id": "pooErrIXOTGW"
      }
    },
    {
      "cell_type": "code",
      "source": [
        "if __name__ == \"__main__\":\n",
        "\n",
        "    # creamos la conexión con google\n",
        "\n",
        "    from google.colab import drive\n",
        "    drive.mount('/content/drive')    # nobre de la conexion\n",
        "\n",
        "    # o subimos un archivo (si es necesario)\n",
        "\n",
        "    # from google.colab import files\n",
        "    # Uploaded = files.upload()"
      ],
      "metadata": {
        "id": "gDv1BFUaCjB-",
        "colab": {
          "base_uri": "https://localhost:8080/",
          "height": 399
        },
        "outputId": "d5c52b64-9fbc-4068-c184-cd1765895ca8"
      },
      "execution_count": null,
      "outputs": [
        {
          "output_type": "error",
          "ename": "MessageError",
          "evalue": "ignored",
          "traceback": [
            "\u001b[0;31m---------------------------------------------------------------------------\u001b[0m",
            "\u001b[0;31mMessageError\u001b[0m                              Traceback (most recent call last)",
            "\u001b[0;32m<ipython-input-3-6d17f81cb1b1>\u001b[0m in \u001b[0;36m<module>\u001b[0;34m\u001b[0m\n\u001b[1;32m      4\u001b[0m \u001b[0;34m\u001b[0m\u001b[0m\n\u001b[1;32m      5\u001b[0m     \u001b[0;32mfrom\u001b[0m \u001b[0mgoogle\u001b[0m\u001b[0;34m.\u001b[0m\u001b[0mcolab\u001b[0m \u001b[0;32mimport\u001b[0m \u001b[0mdrive\u001b[0m\u001b[0;34m\u001b[0m\u001b[0;34m\u001b[0m\u001b[0m\n\u001b[0;32m----> 6\u001b[0;31m     \u001b[0mdrive\u001b[0m\u001b[0;34m.\u001b[0m\u001b[0mmount\u001b[0m\u001b[0;34m(\u001b[0m\u001b[0;34m'/content/drive'\u001b[0m\u001b[0;34m)\u001b[0m    \u001b[0;31m# nobre de la conexion\u001b[0m\u001b[0;34m\u001b[0m\u001b[0;34m\u001b[0m\u001b[0m\n\u001b[0m\u001b[1;32m      7\u001b[0m \u001b[0;34m\u001b[0m\u001b[0m\n\u001b[1;32m      8\u001b[0m     \u001b[0;31m# o subimos un archivo (si es necesario)\u001b[0m\u001b[0;34m\u001b[0m\u001b[0;34m\u001b[0m\u001b[0;34m\u001b[0m\u001b[0m\n",
            "\u001b[0;32m/usr/local/lib/python3.8/dist-packages/google/colab/drive.py\u001b[0m in \u001b[0;36mmount\u001b[0;34m(mountpoint, force_remount, timeout_ms, readonly)\u001b[0m\n\u001b[1;32m     99\u001b[0m \u001b[0;32mdef\u001b[0m \u001b[0mmount\u001b[0m\u001b[0;34m(\u001b[0m\u001b[0mmountpoint\u001b[0m\u001b[0;34m,\u001b[0m \u001b[0mforce_remount\u001b[0m\u001b[0;34m=\u001b[0m\u001b[0;32mFalse\u001b[0m\u001b[0;34m,\u001b[0m \u001b[0mtimeout_ms\u001b[0m\u001b[0;34m=\u001b[0m\u001b[0;36m120000\u001b[0m\u001b[0;34m,\u001b[0m \u001b[0mreadonly\u001b[0m\u001b[0;34m=\u001b[0m\u001b[0;32mFalse\u001b[0m\u001b[0;34m)\u001b[0m\u001b[0;34m:\u001b[0m\u001b[0;34m\u001b[0m\u001b[0;34m\u001b[0m\u001b[0m\n\u001b[1;32m    100\u001b[0m   \u001b[0;34m\"\"\"Mount your Google Drive at the specified mountpoint path.\"\"\"\u001b[0m\u001b[0;34m\u001b[0m\u001b[0;34m\u001b[0m\u001b[0m\n\u001b[0;32m--> 101\u001b[0;31m   return _mount(\n\u001b[0m\u001b[1;32m    102\u001b[0m       \u001b[0mmountpoint\u001b[0m\u001b[0;34m,\u001b[0m\u001b[0;34m\u001b[0m\u001b[0;34m\u001b[0m\u001b[0m\n\u001b[1;32m    103\u001b[0m       \u001b[0mforce_remount\u001b[0m\u001b[0;34m=\u001b[0m\u001b[0mforce_remount\u001b[0m\u001b[0;34m,\u001b[0m\u001b[0;34m\u001b[0m\u001b[0;34m\u001b[0m\u001b[0m\n",
            "\u001b[0;32m/usr/local/lib/python3.8/dist-packages/google/colab/drive.py\u001b[0m in \u001b[0;36m_mount\u001b[0;34m(mountpoint, force_remount, timeout_ms, ephemeral, readonly)\u001b[0m\n\u001b[1;32m    122\u001b[0m       'TBE_EPHEM_CREDS_ADDR'] if ephemeral else _os.environ['TBE_CREDS_ADDR']\n\u001b[1;32m    123\u001b[0m   \u001b[0;32mif\u001b[0m \u001b[0mephemeral\u001b[0m\u001b[0;34m:\u001b[0m\u001b[0;34m\u001b[0m\u001b[0;34m\u001b[0m\u001b[0m\n\u001b[0;32m--> 124\u001b[0;31m     _message.blocking_request(\n\u001b[0m\u001b[1;32m    125\u001b[0m         'request_auth', request={'authType': 'dfs_ephemeral'}, timeout_sec=None)\n\u001b[1;32m    126\u001b[0m \u001b[0;34m\u001b[0m\u001b[0m\n",
            "\u001b[0;32m/usr/local/lib/python3.8/dist-packages/google/colab/_message.py\u001b[0m in \u001b[0;36mblocking_request\u001b[0;34m(request_type, request, timeout_sec, parent)\u001b[0m\n\u001b[1;32m    169\u001b[0m   request_id = send_request(\n\u001b[1;32m    170\u001b[0m       request_type, request, parent=parent, expect_reply=True)\n\u001b[0;32m--> 171\u001b[0;31m   \u001b[0;32mreturn\u001b[0m \u001b[0mread_reply_from_input\u001b[0m\u001b[0;34m(\u001b[0m\u001b[0mrequest_id\u001b[0m\u001b[0;34m,\u001b[0m \u001b[0mtimeout_sec\u001b[0m\u001b[0;34m)\u001b[0m\u001b[0;34m\u001b[0m\u001b[0;34m\u001b[0m\u001b[0m\n\u001b[0m",
            "\u001b[0;32m/usr/local/lib/python3.8/dist-packages/google/colab/_message.py\u001b[0m in \u001b[0;36mread_reply_from_input\u001b[0;34m(message_id, timeout_sec)\u001b[0m\n\u001b[1;32m    100\u001b[0m         reply.get('colab_msg_id') == message_id):\n\u001b[1;32m    101\u001b[0m       \u001b[0;32mif\u001b[0m \u001b[0;34m'error'\u001b[0m \u001b[0;32min\u001b[0m \u001b[0mreply\u001b[0m\u001b[0;34m:\u001b[0m\u001b[0;34m\u001b[0m\u001b[0;34m\u001b[0m\u001b[0m\n\u001b[0;32m--> 102\u001b[0;31m         \u001b[0;32mraise\u001b[0m \u001b[0mMessageError\u001b[0m\u001b[0;34m(\u001b[0m\u001b[0mreply\u001b[0m\u001b[0;34m[\u001b[0m\u001b[0;34m'error'\u001b[0m\u001b[0;34m]\u001b[0m\u001b[0;34m)\u001b[0m\u001b[0;34m\u001b[0m\u001b[0;34m\u001b[0m\u001b[0m\n\u001b[0m\u001b[1;32m    103\u001b[0m       \u001b[0;32mreturn\u001b[0m \u001b[0mreply\u001b[0m\u001b[0;34m.\u001b[0m\u001b[0mget\u001b[0m\u001b[0;34m(\u001b[0m\u001b[0;34m'data'\u001b[0m\u001b[0;34m,\u001b[0m \u001b[0;32mNone\u001b[0m\u001b[0;34m)\u001b[0m\u001b[0;34m\u001b[0m\u001b[0;34m\u001b[0m\u001b[0m\n\u001b[1;32m    104\u001b[0m \u001b[0;34m\u001b[0m\u001b[0m\n",
            "\u001b[0;31mMessageError\u001b[0m: Error: credential propagation was unsuccessful"
          ]
        }
      ]
    },
    {
      "cell_type": "markdown",
      "source": [
        "### Creamos una variable con el nuevo archivo"
      ],
      "metadata": {
        "id": "A8YL1xFcOvI5"
      }
    },
    {
      "cell_type": "code",
      "source": [
        "    ## leemos los archivos\n",
        "\n",
        "    ### leemos el archivo y especificamos la hoja que usaremos como df\n",
        "    ch_dbo_1 = pd.read_excel('/content/drive/MyDrive/UAM/Calidad del agua /ica_sup_1.xlsx', sheet_name = 'CASUP_2012-2021')\n",
        "\n",
        "    ## eliminamos las columnas innecesarias"
      ],
      "metadata": {
        "id": "lAEAkOY6HuB3"
      },
      "execution_count": null,
      "outputs": []
    },
    {
      "cell_type": "code",
      "source": [
        "    ## tratamiento de los valores atipicos y nulos\n",
        "\n",
        "    ### eliminar los valores nulos\n",
        "    ch_dbo_1_0 = ch_dbo_1.dropna()\n",
        "\n",
        "    ### cambia los valores atipicos por 0\n",
        "    ch_dbo_1_0_0 = ch_dbo_1_0.replace({'<30':30, '<3':3, '<2':2, '<10':10})\n",
        "    ### tamaño de los datos\n",
        "    print(ch_dbo_1.shape)\n",
        "    print(ch_dbo_1_0.shape)\n",
        "    # ### tipos de datos\n",
        "    print(ch_dbo_1_0_0.dtypes)\n",
        "    ### descripción del df\n",
        "    print(ch_dbo_1_0_0.describe())\n",
        "    ### eliminamos las columnas que no usaremos\n",
        "    ch_dbo_1_0_1 = ch_dbo_1_0_0.drop('SITIO', axis = 1)\n",
        "    print(ch_dbo_1_0_1)"
      ],
      "metadata": {
        "id": "XHCoxWpL_TVI"
      },
      "execution_count": null,
      "outputs": []
    },
    {
      "cell_type": "markdown",
      "source": [
        "## Bach K-Means"
      ],
      "metadata": {
        "id": "-aM2TJVtqjJJ"
      }
    },
    {
      "cell_type": "code",
      "source": [
        "    ## batch k-means\n",
        "\n",
        "    ###  eliminamos las\n",
        "    X = ch_dbo_1_0_1.drop('SEMAFORO', axis = 1)\n",
        "\n",
        "    kmeans = MiniBatchKMeans(n_clusters = 3,batch_size = 8).fit(X)\n",
        "\n",
        "    print('Total de centros: ', len(kmeans.cluster_centers_))\n",
        "    print('*'*64)\n",
        "    print(kmeans.predict(X))\n",
        "\n",
        "    ch_dbo_1_0_2['GROUP'] = kmeans.predict(X)\n",
        "\n",
        "    print(ch_dbo_1_0_2)"
      ],
      "metadata": {
        "id": "lEl0JElmr-Bw"
      },
      "execution_count": null,
      "outputs": []
    },
    {
      "cell_type": "markdown",
      "source": [
        "# Exportamos el archivo con las predicciones"
      ],
      "metadata": {
        "id": "zkBr2G9GPARf"
      }
    },
    {
      "cell_type": "code",
      "source": [
        "ch_dbo_1_0_1.to_csv('ind_ica.csv')\n",
        "\n",
        "from google.colab import files\n",
        "files.download('ind_ica.csv')"
      ],
      "metadata": {
        "id": "TycFHS8xESCj"
      },
      "execution_count": null,
      "outputs": []
    }
  ]
}