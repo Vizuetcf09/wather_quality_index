{
 "cells": [
  {
   "cell_type": "markdown",
   "source": "# **Monitoreo de la Calidad del Agua Mediante Algoritmos de Aprendizaje Automático**\n\n\n(Agregar descripción)",
   "metadata": {
    "id": "IFv18hov-xU2",
    "cell_id": "684cd963-0e49-421c-b64e-bceb3a3c0e4f",
    "deepnote_cell_type": "markdown"
   }
  },
  {
   "cell_type": "markdown",
   "source": "### Debemos instalar algunas dependencias para leer el archivo \"xlsb\" con el comando \"!pip install pyxlsb\" \n(solo si es necesario)",
   "metadata": {
    "id": "sqy2U35_aTKq",
    "cell_id": "00001-f8ae8aaa-168b-411a-a377-b0b97d1b7015",
    "deepnote_cell_type": "markdown"
   }
  },
  {
   "cell_type": "code",
   "metadata": {
    "colab": {
     "base_uri": "https://localhost:8080/"
    },
    "id": "j4SlAz_5aEcg",
    "outputId": "80dd9d97-6029-4823-f306-f40379f631f3",
    "cell_id": "00002-4037edc9-a399-416d-92bb-686cf9dc4406",
    "deepnote_cell_type": "code"
   },
   "source": "# instalar dependencias\n\n!pip install pyxlsb",
   "execution_count": null,
   "outputs": [
    {
     "output_type": "stream",
     "name": "stdout",
     "text": "Looking in indexes: https://pypi.org/simple, https://us-python.pkg.dev/colab-wheels/public/simple/\nCollecting pyxlsb\n  Downloading pyxlsb-1.0.10-py2.py3-none-any.whl (23 kB)\nInstalling collected packages: pyxlsb\nSuccessfully installed pyxlsb-1.0.10\n"
    }
   ]
  },
  {
   "cell_type": "markdown",
   "source": "### Importamos las librerías",
   "metadata": {
    "id": "mkMq_NJBFI1u",
    "cell_id": "00003-8b547d69-d540-4e18-828b-878ab632add2",
    "deepnote_cell_type": "markdown"
   }
  },
  {
   "cell_type": "code",
   "metadata": {
    "id": "DQzPcgx887lE",
    "cell_id": "00004-24038200-e733-4f2b-a890-55d86f4c879d",
    "deepnote_cell_type": "code"
   },
   "source": "# librerias\n\nimport numpy as np\nimport pandas as pd \nimport seaborn as sns \nimport matplotlib.pyplot as plt \n \n# modulos\n\nfrom seaborn import palettes\nfrom sklearn.cluster import MiniBatchKMeans \n\nimport warnings \nwarnings.filterwarnings(\"ignore\")",
   "execution_count": null,
   "outputs": []
  },
  {
   "cell_type": "markdown",
   "source": "### Creamos la conexión con Google\n\n(Solo si es necesario)",
   "metadata": {
    "id": "pooErrIXOTGW",
    "cell_id": "00005-5c3d7c00-b410-4bad-b788-3681f2205d59",
    "deepnote_cell_type": "markdown"
   }
  },
  {
   "cell_type": "code",
   "metadata": {
    "id": "gDv1BFUaCjB-",
    "colab": {
     "base_uri": "https://localhost:8080/"
    },
    "outputId": "8637f523-2298-4f15-c43b-eb11698a4041",
    "cell_id": "00006-d11f9f43-df9c-41b4-8500-95da2f8432c7",
    "deepnote_cell_type": "code"
   },
   "source": "if __name__ == \"__main__\":\n\n    # creamos la conexión con google\n\n    from google.colab import drive\n    drive.mount('/content/drive')    # nobre de la conexion\n\n    # o subimos un archivo (si es necesario)\n\n    # from google.colab import files\n    # Uploaded = files.upload()",
   "execution_count": null,
   "outputs": [
    {
     "output_type": "stream",
     "name": "stdout",
     "text": "Mounted at /content/drive\n"
    }
   ]
  },
  {
   "cell_type": "markdown",
   "source": "### Creamos una variable con el nuevo archivo",
   "metadata": {
    "id": "A8YL1xFcOvI5",
    "cell_id": "00007-fb08f0f9-1fb7-4c2b-a53b-3c89912a90a8",
    "deepnote_cell_type": "markdown"
   }
  },
  {
   "cell_type": "code",
   "metadata": {
    "colab": {
     "base_uri": "https://localhost:8080/",
     "height": 488
    },
    "id": "lAEAkOY6HuB3",
    "outputId": "d81f6737-cc1e-4fbd-a61b-ee7527415afd",
    "cell_id": "00008-a8b263b6-c396-4b86-a411-1af79fafb2a8",
    "deepnote_cell_type": "code"
   },
   "source": "    ## leemos los archivos\n\n    ### leemos el archivo y especificamos la hoja que usaremos como df\n    ch_dbo_1 = pd.read_excel('/content/drive/MyDrive/UAM/Calidad del agua /ResChiapas (4).xlsb', sheet_name = '2012-2021')\n    \n    ## eliminamos las columnas innecesarias\n\n    ch_dbo_1.drop(['Unnamed: 0','Unnamed: 1', 'CLAVE SITIO', 'CLAVE MONITOREO', 'NOMBRE DEL SITIO', 'TIPO DE CUERPO DE AGUA'], axis = 1, inplace = True)\n    ch_dbo_1.dropna()\n    ### leemos el df\n    ch_dbo_1",
   "execution_count": null,
   "outputs": [
    {
     "output_type": "execute_result",
     "data": {
      "text/plain": "     FECHA  ALC_TOT   HCO3  CLOROF_A  COLI_FEC  E_COLI     COT  COT_SOL  \\\n0    44032      NaN    NaN  23.13460      15.0    15.0  1.1930   0.9930   \n1    44032      NaN    NaN       NaN     390.0   230.0  2.3890      NaN   \n2    44033      NaN    NaN       NaN     930.0   430.0  1.9330      NaN   \n3    44033      NaN    NaN   5.13640       NaN     NaN  2.7000   1.8650   \n4    44033      NaN    NaN       NaN     280.0   280.0  2.0350      NaN   \n..     ...      ...    ...       ...       ...     ...     ...      ...   \n322  44466      NaN    NaN       NaN      23.0     NaN  0.5000      NaN   \n323  44466      NaN    NaN  11.02070       NaN     NaN  1.4979   0.7007   \n324  44466      NaN    NaN  11.02707     210.0   150.0  1.4979   0.7007   \n325  44480    353.4  353.4       NaN      75.0     NaN  0.5000      NaN   \n326  44481      NaN    NaN       NaN     150.0   150.0  5.1910   4.2150   \n\n     DBO_SOL  DBO_TOT  ...  CLORUROS_SOL  FLUORUROS_SOL  SO4_SOL  FE_SOL  \\\n0       7.44     8.88  ...           NaN            NaN      NaN     NaN   \n1        NaN     2.78  ...           NaN            NaN      NaN     NaN   \n2        NaN     3.60  ...           NaN            NaN      NaN     NaN   \n3        NaN      NaN  ...           NaN            NaN      NaN     NaN   \n4        NaN     2.85  ...           NaN            NaN      NaN     NaN   \n..       ...      ...  ...           ...            ...      ...     ...   \n322      NaN      NaN  ...           NaN            NaN      NaN     NaN   \n323     8.22     9.15  ...           NaN            NaN      NaN     NaN   \n324     8.22     9.15  ...           NaN            NaN      NaN     NaN   \n325      NaN      NaN  ...           NaN            NaN      NaN     NaN   \n326     6.24     7.11  ...           NaN            NaN      NaN     NaN   \n\n     MN_SOL  ZN_SOL  CA_SOL  MG_SOL  K_SOL  NA_SOL  \n0       NaN     NaN     NaN     NaN    NaN     NaN  \n1       NaN     NaN     NaN     NaN    NaN     NaN  \n2       NaN     NaN     NaN     NaN    NaN     NaN  \n3       NaN     NaN     NaN     NaN    NaN     NaN  \n4       NaN     NaN     NaN     NaN    NaN     NaN  \n..      ...     ...     ...     ...    ...     ...  \n322     NaN     NaN     NaN     NaN    NaN     NaN  \n323     NaN     NaN     NaN     NaN    NaN     NaN  \n324     NaN     NaN     NaN     NaN    NaN     NaN  \n325     NaN     NaN     NaN     NaN    NaN     NaN  \n326     NaN     NaN     NaN     NaN    NaN     NaN  \n\n[327 rows x 121 columns]",
      "text/html": "\n  <div id=\"df-0863b728-6d45-43b4-86cc-92a7cf718763\">\n    <div class=\"colab-df-container\">\n      <div>\n<style scoped>\n    .dataframe tbody tr th:only-of-type {\n        vertical-align: middle;\n    }\n\n    .dataframe tbody tr th {\n        vertical-align: top;\n    }\n\n    .dataframe thead th {\n        text-align: right;\n    }\n</style>\n<table border=\"1\" class=\"dataframe\">\n  <thead>\n    <tr style=\"text-align: right;\">\n      <th></th>\n      <th>FECHA</th>\n      <th>ALC_TOT</th>\n      <th>HCO3</th>\n      <th>CLOROF_A</th>\n      <th>COLI_FEC</th>\n      <th>E_COLI</th>\n      <th>COT</th>\n      <th>COT_SOL</th>\n      <th>DBO_SOL</th>\n      <th>DBO_TOT</th>\n      <th>...</th>\n      <th>CLORUROS_SOL</th>\n      <th>FLUORUROS_SOL</th>\n      <th>SO4_SOL</th>\n      <th>FE_SOL</th>\n      <th>MN_SOL</th>\n      <th>ZN_SOL</th>\n      <th>CA_SOL</th>\n      <th>MG_SOL</th>\n      <th>K_SOL</th>\n      <th>NA_SOL</th>\n    </tr>\n  </thead>\n  <tbody>\n    <tr>\n      <th>0</th>\n      <td>44032</td>\n      <td>NaN</td>\n      <td>NaN</td>\n      <td>23.13460</td>\n      <td>15.0</td>\n      <td>15.0</td>\n      <td>1.1930</td>\n      <td>0.9930</td>\n      <td>7.44</td>\n      <td>8.88</td>\n      <td>...</td>\n      <td>NaN</td>\n      <td>NaN</td>\n      <td>NaN</td>\n      <td>NaN</td>\n      <td>NaN</td>\n      <td>NaN</td>\n      <td>NaN</td>\n      <td>NaN</td>\n      <td>NaN</td>\n      <td>NaN</td>\n    </tr>\n    <tr>\n      <th>1</th>\n      <td>44032</td>\n      <td>NaN</td>\n      <td>NaN</td>\n      <td>NaN</td>\n      <td>390.0</td>\n      <td>230.0</td>\n      <td>2.3890</td>\n      <td>NaN</td>\n      <td>NaN</td>\n      <td>2.78</td>\n      <td>...</td>\n      <td>NaN</td>\n      <td>NaN</td>\n      <td>NaN</td>\n      <td>NaN</td>\n      <td>NaN</td>\n      <td>NaN</td>\n      <td>NaN</td>\n      <td>NaN</td>\n      <td>NaN</td>\n      <td>NaN</td>\n    </tr>\n    <tr>\n      <th>2</th>\n      <td>44033</td>\n      <td>NaN</td>\n      <td>NaN</td>\n      <td>NaN</td>\n      <td>930.0</td>\n      <td>430.0</td>\n      <td>1.9330</td>\n      <td>NaN</td>\n      <td>NaN</td>\n      <td>3.60</td>\n      <td>...</td>\n      <td>NaN</td>\n      <td>NaN</td>\n      <td>NaN</td>\n      <td>NaN</td>\n      <td>NaN</td>\n      <td>NaN</td>\n      <td>NaN</td>\n      <td>NaN</td>\n      <td>NaN</td>\n      <td>NaN</td>\n    </tr>\n    <tr>\n      <th>3</th>\n      <td>44033</td>\n      <td>NaN</td>\n      <td>NaN</td>\n      <td>5.13640</td>\n      <td>NaN</td>\n      <td>NaN</td>\n      <td>2.7000</td>\n      <td>1.8650</td>\n      <td>NaN</td>\n      <td>NaN</td>\n      <td>...</td>\n      <td>NaN</td>\n      <td>NaN</td>\n      <td>NaN</td>\n      <td>NaN</td>\n      <td>NaN</td>\n      <td>NaN</td>\n      <td>NaN</td>\n      <td>NaN</td>\n      <td>NaN</td>\n      <td>NaN</td>\n    </tr>\n    <tr>\n      <th>4</th>\n      <td>44033</td>\n      <td>NaN</td>\n      <td>NaN</td>\n      <td>NaN</td>\n      <td>280.0</td>\n      <td>280.0</td>\n      <td>2.0350</td>\n      <td>NaN</td>\n      <td>NaN</td>\n      <td>2.85</td>\n      <td>...</td>\n      <td>NaN</td>\n      <td>NaN</td>\n      <td>NaN</td>\n      <td>NaN</td>\n      <td>NaN</td>\n      <td>NaN</td>\n      <td>NaN</td>\n      <td>NaN</td>\n      <td>NaN</td>\n      <td>NaN</td>\n    </tr>\n    <tr>\n      <th>...</th>\n      <td>...</td>\n      <td>...</td>\n      <td>...</td>\n      <td>...</td>\n      <td>...</td>\n      <td>...</td>\n      <td>...</td>\n      <td>...</td>\n      <td>...</td>\n      <td>...</td>\n      <td>...</td>\n      <td>...</td>\n      <td>...</td>\n      <td>...</td>\n      <td>...</td>\n      <td>...</td>\n      <td>...</td>\n      <td>...</td>\n      <td>...</td>\n      <td>...</td>\n      <td>...</td>\n    </tr>\n    <tr>\n      <th>322</th>\n      <td>44466</td>\n      <td>NaN</td>\n      <td>NaN</td>\n      <td>NaN</td>\n      <td>23.0</td>\n      <td>NaN</td>\n      <td>0.5000</td>\n      <td>NaN</td>\n      <td>NaN</td>\n      <td>NaN</td>\n      <td>...</td>\n      <td>NaN</td>\n      <td>NaN</td>\n      <td>NaN</td>\n      <td>NaN</td>\n      <td>NaN</td>\n      <td>NaN</td>\n      <td>NaN</td>\n      <td>NaN</td>\n      <td>NaN</td>\n      <td>NaN</td>\n    </tr>\n    <tr>\n      <th>323</th>\n      <td>44466</td>\n      <td>NaN</td>\n      <td>NaN</td>\n      <td>11.02070</td>\n      <td>NaN</td>\n      <td>NaN</td>\n      <td>1.4979</td>\n      <td>0.7007</td>\n      <td>8.22</td>\n      <td>9.15</td>\n      <td>...</td>\n      <td>NaN</td>\n      <td>NaN</td>\n      <td>NaN</td>\n      <td>NaN</td>\n      <td>NaN</td>\n      <td>NaN</td>\n      <td>NaN</td>\n      <td>NaN</td>\n      <td>NaN</td>\n      <td>NaN</td>\n    </tr>\n    <tr>\n      <th>324</th>\n      <td>44466</td>\n      <td>NaN</td>\n      <td>NaN</td>\n      <td>11.02707</td>\n      <td>210.0</td>\n      <td>150.0</td>\n      <td>1.4979</td>\n      <td>0.7007</td>\n      <td>8.22</td>\n      <td>9.15</td>\n      <td>...</td>\n      <td>NaN</td>\n      <td>NaN</td>\n      <td>NaN</td>\n      <td>NaN</td>\n      <td>NaN</td>\n      <td>NaN</td>\n      <td>NaN</td>\n      <td>NaN</td>\n      <td>NaN</td>\n      <td>NaN</td>\n    </tr>\n    <tr>\n      <th>325</th>\n      <td>44480</td>\n      <td>353.4</td>\n      <td>353.4</td>\n      <td>NaN</td>\n      <td>75.0</td>\n      <td>NaN</td>\n      <td>0.5000</td>\n      <td>NaN</td>\n      <td>NaN</td>\n      <td>NaN</td>\n      <td>...</td>\n      <td>NaN</td>\n      <td>NaN</td>\n      <td>NaN</td>\n      <td>NaN</td>\n      <td>NaN</td>\n      <td>NaN</td>\n      <td>NaN</td>\n      <td>NaN</td>\n      <td>NaN</td>\n      <td>NaN</td>\n    </tr>\n    <tr>\n      <th>326</th>\n      <td>44481</td>\n      <td>NaN</td>\n      <td>NaN</td>\n      <td>NaN</td>\n      <td>150.0</td>\n      <td>150.0</td>\n      <td>5.1910</td>\n      <td>4.2150</td>\n      <td>6.24</td>\n      <td>7.11</td>\n      <td>...</td>\n      <td>NaN</td>\n      <td>NaN</td>\n      <td>NaN</td>\n      <td>NaN</td>\n      <td>NaN</td>\n      <td>NaN</td>\n      <td>NaN</td>\n      <td>NaN</td>\n      <td>NaN</td>\n      <td>NaN</td>\n    </tr>\n  </tbody>\n</table>\n<p>327 rows × 121 columns</p>\n</div>\n      <button class=\"colab-df-convert\" onclick=\"convertToInteractive('df-0863b728-6d45-43b4-86cc-92a7cf718763')\"\n              title=\"Convert this dataframe to an interactive table.\"\n              style=\"display:none;\">\n        \n  <svg xmlns=\"http://www.w3.org/2000/svg\" height=\"24px\"viewBox=\"0 0 24 24\"\n       width=\"24px\">\n    <path d=\"M0 0h24v24H0V0z\" fill=\"none\"/>\n    <path d=\"M18.56 5.44l.94 2.06.94-2.06 2.06-.94-2.06-.94-.94-2.06-.94 2.06-2.06.94zm-11 1L8.5 8.5l.94-2.06 2.06-.94-2.06-.94L8.5 2.5l-.94 2.06-2.06.94zm10 10l.94 2.06.94-2.06 2.06-.94-2.06-.94-.94-2.06-.94 2.06-2.06.94z\"/><path d=\"M17.41 7.96l-1.37-1.37c-.4-.4-.92-.59-1.43-.59-.52 0-1.04.2-1.43.59L10.3 9.45l-7.72 7.72c-.78.78-.78 2.05 0 2.83L4 21.41c.39.39.9.59 1.41.59.51 0 1.02-.2 1.41-.59l7.78-7.78 2.81-2.81c.8-.78.8-2.07 0-2.86zM5.41 20L4 18.59l7.72-7.72 1.47 1.35L5.41 20z\"/>\n  </svg>\n      </button>\n      \n  <style>\n    .colab-df-container {\n      display:flex;\n      flex-wrap:wrap;\n      gap: 12px;\n    }\n\n    .colab-df-convert {\n      background-color: #E8F0FE;\n      border: none;\n      border-radius: 50%;\n      cursor: pointer;\n      display: none;\n      fill: #1967D2;\n      height: 32px;\n      padding: 0 0 0 0;\n      width: 32px;\n    }\n\n    .colab-df-convert:hover {\n      background-color: #E2EBFA;\n      box-shadow: 0px 1px 2px rgba(60, 64, 67, 0.3), 0px 1px 3px 1px rgba(60, 64, 67, 0.15);\n      fill: #174EA6;\n    }\n\n    [theme=dark] .colab-df-convert {\n      background-color: #3B4455;\n      fill: #D2E3FC;\n    }\n\n    [theme=dark] .colab-df-convert:hover {\n      background-color: #434B5C;\n      box-shadow: 0px 1px 3px 1px rgba(0, 0, 0, 0.15);\n      filter: drop-shadow(0px 1px 2px rgba(0, 0, 0, 0.3));\n      fill: #FFFFFF;\n    }\n  </style>\n\n      <script>\n        const buttonEl =\n          document.querySelector('#df-0863b728-6d45-43b4-86cc-92a7cf718763 button.colab-df-convert');\n        buttonEl.style.display =\n          google.colab.kernel.accessAllowed ? 'block' : 'none';\n\n        async function convertToInteractive(key) {\n          const element = document.querySelector('#df-0863b728-6d45-43b4-86cc-92a7cf718763');\n          const dataTable =\n            await google.colab.kernel.invokeFunction('convertToInteractive',\n                                                     [key], {});\n          if (!dataTable) return;\n\n          const docLinkHtml = 'Like what you see? Visit the ' +\n            '<a target=\"_blank\" href=https://colab.research.google.com/notebooks/data_table.ipynb>data table notebook</a>'\n            + ' to learn more about interactive tables.';\n          element.innerHTML = '';\n          dataTable['output_type'] = 'display_data';\n          await google.colab.output.renderOutput(dataTable, element);\n          const docLink = document.createElement('div');\n          docLink.innerHTML = docLinkHtml;\n          element.appendChild(docLink);\n        }\n      </script>\n    </div>\n  </div>\n  "
     },
     "metadata": {},
     "execution_count": 4
    }
   ]
  },
  {
   "cell_type": "code",
   "metadata": {
    "id": "ZnFppd2bEogB",
    "colab": {
     "base_uri": "https://localhost:8080/",
     "height": 488
    },
    "outputId": "ecbc8125-895e-4dd2-c6ff-fd88d1cf00f0",
    "cell_id": "00009-c60b555d-5f4d-4acb-8ea7-c1a7f627044c",
    "deepnote_cell_type": "code"
   },
   "source": "  ## cambiar los valores nulos por 0\n\n  ch_dbo_1_0 = ch_dbo_1.replace({'-85':0, '-8':0})\n\n  ch_dbo_1_0_0 = ch_dbo_1.fillna(0)\n             \n  ch_dbo_1_0_0",
   "execution_count": null,
   "outputs": [
    {
     "output_type": "execute_result",
     "data": {
      "text/plain": "     FECHA  ALC_TOT   HCO3  CLOROF_A  COLI_FEC  E_COLI     COT  COT_SOL  \\\n0    44032      0.0    0.0  23.13460      15.0    15.0  1.1930   0.9930   \n1    44032      0.0    0.0   0.00000     390.0   230.0  2.3890   0.0000   \n2    44033      0.0    0.0   0.00000     930.0   430.0  1.9330   0.0000   \n3    44033      0.0    0.0   5.13640       0.0     0.0  2.7000   1.8650   \n4    44033      0.0    0.0   0.00000     280.0   280.0  2.0350   0.0000   \n..     ...      ...    ...       ...       ...     ...     ...      ...   \n322  44466      0.0    0.0   0.00000      23.0     0.0  0.5000   0.0000   \n323  44466      0.0    0.0  11.02070       0.0     0.0  1.4979   0.7007   \n324  44466      0.0    0.0  11.02707     210.0   150.0  1.4979   0.7007   \n325  44480    353.4  353.4   0.00000      75.0     0.0  0.5000   0.0000   \n326  44481      0.0    0.0   0.00000     150.0   150.0  5.1910   4.2150   \n\n     DBO_SOL  DBO_TOT  ...  CLORUROS_SOL  FLUORUROS_SOL  SO4_SOL  FE_SOL  \\\n0       7.44     8.88  ...           0.0            0.0      0.0     0.0   \n1       0.00     2.78  ...           0.0            0.0      0.0     0.0   \n2       0.00     3.60  ...           0.0            0.0      0.0     0.0   \n3       0.00     0.00  ...           0.0            0.0      0.0     0.0   \n4       0.00     2.85  ...           0.0            0.0      0.0     0.0   \n..       ...      ...  ...           ...            ...      ...     ...   \n322     0.00     0.00  ...           0.0            0.0      0.0     0.0   \n323     8.22     9.15  ...           0.0            0.0      0.0     0.0   \n324     8.22     9.15  ...           0.0            0.0      0.0     0.0   \n325     0.00     0.00  ...           0.0            0.0      0.0     0.0   \n326     6.24     7.11  ...           0.0            0.0      0.0     0.0   \n\n     MN_SOL  ZN_SOL  CA_SOL  MG_SOL  K_SOL  NA_SOL  \n0       0.0     0.0     0.0     0.0    0.0     0.0  \n1       0.0     0.0     0.0     0.0    0.0     0.0  \n2       0.0     0.0     0.0     0.0    0.0     0.0  \n3       0.0     0.0     0.0     0.0    0.0     0.0  \n4       0.0     0.0     0.0     0.0    0.0     0.0  \n..      ...     ...     ...     ...    ...     ...  \n322     0.0     0.0     0.0     0.0    0.0     0.0  \n323     0.0     0.0     0.0     0.0    0.0     0.0  \n324     0.0     0.0     0.0     0.0    0.0     0.0  \n325     0.0     0.0     0.0     0.0    0.0     0.0  \n326     0.0     0.0     0.0     0.0    0.0     0.0  \n\n[327 rows x 121 columns]",
      "text/html": "\n  <div id=\"df-00644d4d-488f-45cf-a4a1-a6a29205238e\">\n    <div class=\"colab-df-container\">\n      <div>\n<style scoped>\n    .dataframe tbody tr th:only-of-type {\n        vertical-align: middle;\n    }\n\n    .dataframe tbody tr th {\n        vertical-align: top;\n    }\n\n    .dataframe thead th {\n        text-align: right;\n    }\n</style>\n<table border=\"1\" class=\"dataframe\">\n  <thead>\n    <tr style=\"text-align: right;\">\n      <th></th>\n      <th>FECHA</th>\n      <th>ALC_TOT</th>\n      <th>HCO3</th>\n      <th>CLOROF_A</th>\n      <th>COLI_FEC</th>\n      <th>E_COLI</th>\n      <th>COT</th>\n      <th>COT_SOL</th>\n      <th>DBO_SOL</th>\n      <th>DBO_TOT</th>\n      <th>...</th>\n      <th>CLORUROS_SOL</th>\n      <th>FLUORUROS_SOL</th>\n      <th>SO4_SOL</th>\n      <th>FE_SOL</th>\n      <th>MN_SOL</th>\n      <th>ZN_SOL</th>\n      <th>CA_SOL</th>\n      <th>MG_SOL</th>\n      <th>K_SOL</th>\n      <th>NA_SOL</th>\n    </tr>\n  </thead>\n  <tbody>\n    <tr>\n      <th>0</th>\n      <td>44032</td>\n      <td>0.0</td>\n      <td>0.0</td>\n      <td>23.13460</td>\n      <td>15.0</td>\n      <td>15.0</td>\n      <td>1.1930</td>\n      <td>0.9930</td>\n      <td>7.44</td>\n      <td>8.88</td>\n      <td>...</td>\n      <td>0.0</td>\n      <td>0.0</td>\n      <td>0.0</td>\n      <td>0.0</td>\n      <td>0.0</td>\n      <td>0.0</td>\n      <td>0.0</td>\n      <td>0.0</td>\n      <td>0.0</td>\n      <td>0.0</td>\n    </tr>\n    <tr>\n      <th>1</th>\n      <td>44032</td>\n      <td>0.0</td>\n      <td>0.0</td>\n      <td>0.00000</td>\n      <td>390.0</td>\n      <td>230.0</td>\n      <td>2.3890</td>\n      <td>0.0000</td>\n      <td>0.00</td>\n      <td>2.78</td>\n      <td>...</td>\n      <td>0.0</td>\n      <td>0.0</td>\n      <td>0.0</td>\n      <td>0.0</td>\n      <td>0.0</td>\n      <td>0.0</td>\n      <td>0.0</td>\n      <td>0.0</td>\n      <td>0.0</td>\n      <td>0.0</td>\n    </tr>\n    <tr>\n      <th>2</th>\n      <td>44033</td>\n      <td>0.0</td>\n      <td>0.0</td>\n      <td>0.00000</td>\n      <td>930.0</td>\n      <td>430.0</td>\n      <td>1.9330</td>\n      <td>0.0000</td>\n      <td>0.00</td>\n      <td>3.60</td>\n      <td>...</td>\n      <td>0.0</td>\n      <td>0.0</td>\n      <td>0.0</td>\n      <td>0.0</td>\n      <td>0.0</td>\n      <td>0.0</td>\n      <td>0.0</td>\n      <td>0.0</td>\n      <td>0.0</td>\n      <td>0.0</td>\n    </tr>\n    <tr>\n      <th>3</th>\n      <td>44033</td>\n      <td>0.0</td>\n      <td>0.0</td>\n      <td>5.13640</td>\n      <td>0.0</td>\n      <td>0.0</td>\n      <td>2.7000</td>\n      <td>1.8650</td>\n      <td>0.00</td>\n      <td>0.00</td>\n      <td>...</td>\n      <td>0.0</td>\n      <td>0.0</td>\n      <td>0.0</td>\n      <td>0.0</td>\n      <td>0.0</td>\n      <td>0.0</td>\n      <td>0.0</td>\n      <td>0.0</td>\n      <td>0.0</td>\n      <td>0.0</td>\n    </tr>\n    <tr>\n      <th>4</th>\n      <td>44033</td>\n      <td>0.0</td>\n      <td>0.0</td>\n      <td>0.00000</td>\n      <td>280.0</td>\n      <td>280.0</td>\n      <td>2.0350</td>\n      <td>0.0000</td>\n      <td>0.00</td>\n      <td>2.85</td>\n      <td>...</td>\n      <td>0.0</td>\n      <td>0.0</td>\n      <td>0.0</td>\n      <td>0.0</td>\n      <td>0.0</td>\n      <td>0.0</td>\n      <td>0.0</td>\n      <td>0.0</td>\n      <td>0.0</td>\n      <td>0.0</td>\n    </tr>\n    <tr>\n      <th>...</th>\n      <td>...</td>\n      <td>...</td>\n      <td>...</td>\n      <td>...</td>\n      <td>...</td>\n      <td>...</td>\n      <td>...</td>\n      <td>...</td>\n      <td>...</td>\n      <td>...</td>\n      <td>...</td>\n      <td>...</td>\n      <td>...</td>\n      <td>...</td>\n      <td>...</td>\n      <td>...</td>\n      <td>...</td>\n      <td>...</td>\n      <td>...</td>\n      <td>...</td>\n      <td>...</td>\n    </tr>\n    <tr>\n      <th>322</th>\n      <td>44466</td>\n      <td>0.0</td>\n      <td>0.0</td>\n      <td>0.00000</td>\n      <td>23.0</td>\n      <td>0.0</td>\n      <td>0.5000</td>\n      <td>0.0000</td>\n      <td>0.00</td>\n      <td>0.00</td>\n      <td>...</td>\n      <td>0.0</td>\n      <td>0.0</td>\n      <td>0.0</td>\n      <td>0.0</td>\n      <td>0.0</td>\n      <td>0.0</td>\n      <td>0.0</td>\n      <td>0.0</td>\n      <td>0.0</td>\n      <td>0.0</td>\n    </tr>\n    <tr>\n      <th>323</th>\n      <td>44466</td>\n      <td>0.0</td>\n      <td>0.0</td>\n      <td>11.02070</td>\n      <td>0.0</td>\n      <td>0.0</td>\n      <td>1.4979</td>\n      <td>0.7007</td>\n      <td>8.22</td>\n      <td>9.15</td>\n      <td>...</td>\n      <td>0.0</td>\n      <td>0.0</td>\n      <td>0.0</td>\n      <td>0.0</td>\n      <td>0.0</td>\n      <td>0.0</td>\n      <td>0.0</td>\n      <td>0.0</td>\n      <td>0.0</td>\n      <td>0.0</td>\n    </tr>\n    <tr>\n      <th>324</th>\n      <td>44466</td>\n      <td>0.0</td>\n      <td>0.0</td>\n      <td>11.02707</td>\n      <td>210.0</td>\n      <td>150.0</td>\n      <td>1.4979</td>\n      <td>0.7007</td>\n      <td>8.22</td>\n      <td>9.15</td>\n      <td>...</td>\n      <td>0.0</td>\n      <td>0.0</td>\n      <td>0.0</td>\n      <td>0.0</td>\n      <td>0.0</td>\n      <td>0.0</td>\n      <td>0.0</td>\n      <td>0.0</td>\n      <td>0.0</td>\n      <td>0.0</td>\n    </tr>\n    <tr>\n      <th>325</th>\n      <td>44480</td>\n      <td>353.4</td>\n      <td>353.4</td>\n      <td>0.00000</td>\n      <td>75.0</td>\n      <td>0.0</td>\n      <td>0.5000</td>\n      <td>0.0000</td>\n      <td>0.00</td>\n      <td>0.00</td>\n      <td>...</td>\n      <td>0.0</td>\n      <td>0.0</td>\n      <td>0.0</td>\n      <td>0.0</td>\n      <td>0.0</td>\n      <td>0.0</td>\n      <td>0.0</td>\n      <td>0.0</td>\n      <td>0.0</td>\n      <td>0.0</td>\n    </tr>\n    <tr>\n      <th>326</th>\n      <td>44481</td>\n      <td>0.0</td>\n      <td>0.0</td>\n      <td>0.00000</td>\n      <td>150.0</td>\n      <td>150.0</td>\n      <td>5.1910</td>\n      <td>4.2150</td>\n      <td>6.24</td>\n      <td>7.11</td>\n      <td>...</td>\n      <td>0.0</td>\n      <td>0.0</td>\n      <td>0.0</td>\n      <td>0.0</td>\n      <td>0.0</td>\n      <td>0.0</td>\n      <td>0.0</td>\n      <td>0.0</td>\n      <td>0.0</td>\n      <td>0.0</td>\n    </tr>\n  </tbody>\n</table>\n<p>327 rows × 121 columns</p>\n</div>\n      <button class=\"colab-df-convert\" onclick=\"convertToInteractive('df-00644d4d-488f-45cf-a4a1-a6a29205238e')\"\n              title=\"Convert this dataframe to an interactive table.\"\n              style=\"display:none;\">\n        \n  <svg xmlns=\"http://www.w3.org/2000/svg\" height=\"24px\"viewBox=\"0 0 24 24\"\n       width=\"24px\">\n    <path d=\"M0 0h24v24H0V0z\" fill=\"none\"/>\n    <path d=\"M18.56 5.44l.94 2.06.94-2.06 2.06-.94-2.06-.94-.94-2.06-.94 2.06-2.06.94zm-11 1L8.5 8.5l.94-2.06 2.06-.94-2.06-.94L8.5 2.5l-.94 2.06-2.06.94zm10 10l.94 2.06.94-2.06 2.06-.94-2.06-.94-.94-2.06-.94 2.06-2.06.94z\"/><path d=\"M17.41 7.96l-1.37-1.37c-.4-.4-.92-.59-1.43-.59-.52 0-1.04.2-1.43.59L10.3 9.45l-7.72 7.72c-.78.78-.78 2.05 0 2.83L4 21.41c.39.39.9.59 1.41.59.51 0 1.02-.2 1.41-.59l7.78-7.78 2.81-2.81c.8-.78.8-2.07 0-2.86zM5.41 20L4 18.59l7.72-7.72 1.47 1.35L5.41 20z\"/>\n  </svg>\n      </button>\n      \n  <style>\n    .colab-df-container {\n      display:flex;\n      flex-wrap:wrap;\n      gap: 12px;\n    }\n\n    .colab-df-convert {\n      background-color: #E8F0FE;\n      border: none;\n      border-radius: 50%;\n      cursor: pointer;\n      display: none;\n      fill: #1967D2;\n      height: 32px;\n      padding: 0 0 0 0;\n      width: 32px;\n    }\n\n    .colab-df-convert:hover {\n      background-color: #E2EBFA;\n      box-shadow: 0px 1px 2px rgba(60, 64, 67, 0.3), 0px 1px 3px 1px rgba(60, 64, 67, 0.15);\n      fill: #174EA6;\n    }\n\n    [theme=dark] .colab-df-convert {\n      background-color: #3B4455;\n      fill: #D2E3FC;\n    }\n\n    [theme=dark] .colab-df-convert:hover {\n      background-color: #434B5C;\n      box-shadow: 0px 1px 3px 1px rgba(0, 0, 0, 0.15);\n      filter: drop-shadow(0px 1px 2px rgba(0, 0, 0, 0.3));\n      fill: #FFFFFF;\n    }\n  </style>\n\n      <script>\n        const buttonEl =\n          document.querySelector('#df-00644d4d-488f-45cf-a4a1-a6a29205238e button.colab-df-convert');\n        buttonEl.style.display =\n          google.colab.kernel.accessAllowed ? 'block' : 'none';\n\n        async function convertToInteractive(key) {\n          const element = document.querySelector('#df-00644d4d-488f-45cf-a4a1-a6a29205238e');\n          const dataTable =\n            await google.colab.kernel.invokeFunction('convertToInteractive',\n                                                     [key], {});\n          if (!dataTable) return;\n\n          const docLinkHtml = 'Like what you see? Visit the ' +\n            '<a target=\"_blank\" href=https://colab.research.google.com/notebooks/data_table.ipynb>data table notebook</a>'\n            + ' to learn more about interactive tables.';\n          element.innerHTML = '';\n          dataTable['output_type'] = 'display_data';\n          await google.colab.output.renderOutput(dataTable, element);\n          const docLink = document.createElement('div');\n          docLink.innerHTML = docLinkHtml;\n          element.appendChild(docLink);\n        }\n      </script>\n    </div>\n  </div>\n  "
     },
     "metadata": {},
     "execution_count": 7
    }
   ]
  },
  {
   "cell_type": "markdown",
   "source": "## Análisis exploratorio de datos",
   "metadata": {
    "id": "-aM2TJVtqjJJ",
    "cell_id": "00010-b59e1824-9702-46e2-b97c-15af83deb7eb",
    "deepnote_cell_type": "markdown"
   }
  },
  {
   "cell_type": "code",
   "metadata": {
    "colab": {
     "base_uri": "https://localhost:8080/"
    },
    "id": "GH2Rlst6KiAG",
    "outputId": "edcdb299-66ff-4081-ab39-ed218019fa43",
    "cell_id": "00011-941c9c50-3977-4a53-b6f4-0a0ab1cf8aee",
    "deepnote_cell_type": "code"
   },
   "source": "    # tamaño de los datos \n\n    ch_dbo_1.shape",
   "execution_count": null,
   "outputs": [
    {
     "output_type": "execute_result",
     "data": {
      "text/plain": "(327, 121)"
     },
     "metadata": {},
     "execution_count": 8
    }
   ]
  },
  {
   "cell_type": "code",
   "metadata": {
    "colab": {
     "base_uri": "https://localhost:8080/"
    },
    "id": "C4XYIgwwqf7x",
    "outputId": "040cd625-7611-474b-e7ed-f3a99de0b4bf",
    "cell_id": "00012-f3dbbb37-e9d1-49c8-b4fe-6c6f52e4b3ac",
    "deepnote_cell_type": "code"
   },
   "source": "    # tipos de datos\n\n    ch_dbo_1.dtypes",
   "execution_count": null,
   "outputs": [
    {
     "output_type": "execute_result",
     "data": {
      "text/plain": "FECHA         int64\nALC_TOT     float64\nHCO3        float64\nCLOROF_A    float64\nCOLI_FEC    float64\n             ...   \nZN_SOL      float64\nCA_SOL      float64\nMG_SOL      float64\nK_SOL       float64\nNA_SOL      float64\nLength: 121, dtype: object"
     },
     "metadata": {},
     "execution_count": 9
    }
   ]
  },
  {
   "cell_type": "code",
   "metadata": {
    "id": "TiHGrj36v396",
    "cell_id": "00013-5ec98fc3-6106-4861-b0cf-cac097f93732",
    "deepnote_cell_type": "code"
   },
   "source": "#  ## cambiamos el tipo de datos\n\n#  ## método .astype\n#  ch_dbo_1[::].astype('float64')\n#  ch_dbo_1.dtypes\n\n#  ch_dbo_1[::] = [float(str(i).replace('<', ''))for i in ch_dbo_1[::]]",
   "execution_count": null,
   "outputs": []
  },
  {
   "cell_type": "code",
   "metadata": {
    "colab": {
     "base_uri": "https://localhost:8080/",
     "height": 394
    },
    "id": "XFpFElX6sw07",
    "outputId": "be925cec-8340-4b4c-f870-f0da6233d5e3",
    "cell_id": "00014-bd96f807-f243-40b3-8712-1daf1d12dbc9",
    "deepnote_cell_type": "code"
   },
   "source": "    # obtenemos la descripción de los datos\n\n    ch_dbo_1.describe()",
   "execution_count": null,
   "outputs": [
    {
     "output_type": "execute_result",
     "data": {
      "text/plain": "              FECHA     ALC_TOT        HCO3    CLOROF_A      COLI_FEC  \\\ncount    327.000000   36.000000   35.000000  128.000000    268.000000   \nmean   44168.006116  223.626389  218.333429    4.491612   1911.205224   \nstd      169.010781  111.640475  108.590760    4.713215   4237.072451   \nmin    44032.000000   58.260000   58.260000    0.500000      1.000000   \n25%    44056.500000  116.510000  116.510000    0.952550     43.000000   \n50%    44081.000000  216.220000  215.650000    3.345350    460.000000   \n75%    44341.000000  313.002500  305.125000    5.975050   2100.000000   \nmax    44481.000000  463.980000  463.980000   26.564700  24196.000000   \n\n             E_COLI         COT     COT_SOL     DBO_SOL     DBO_TOT  ...  \\\ncount    221.000000  323.000000  169.000000  119.000000  238.000000  ...   \nmean    1762.855204    3.446046    2.694876    4.069580    6.858655  ...   \nstd     4236.681555    3.815170    3.082648    2.605825    8.942780  ...   \nmin        1.000000    0.500000    0.500000    2.000000    2.000000  ...   \n25%       43.000000    1.383000    0.910000    2.000000    2.602500  ...   \n50%      240.000000    2.218000    1.557000    3.060000    4.850000  ...   \n75%     1500.000000    4.052000    3.247000    5.355000    8.227500  ...   \nmax    24000.000000   36.166000   18.965000   13.620000   85.230000  ...   \n\n       CLORUROS_SOL  FLUORUROS_SOL      SO4_SOL     FE_SOL     MN_SOL  \\\ncount     36.000000      36.000000    36.000000  36.000000  37.000000   \nmean      74.677778       0.522672   110.944222   0.123125   1.203346   \nstd       84.386607       0.508808   282.288363   0.181679   7.065126   \nmin       10.000000       0.200000    15.000000   0.025000   0.001500   \n25%       10.000000       0.200000    15.000000   0.031397   0.001500   \n50%       22.085000       0.243800    19.109150   0.093540   0.001500   \n75%      124.695000       0.605975    94.489075   0.120190   0.020900   \nmax      243.190000       1.990000  1636.508600   1.017000  43.006900   \n\n          ZN_SOL      CA_SOL     MG_SOL      K_SOL      NA_SOL  \ncount  36.000000   36.000000  36.000000  36.000000   36.000000  \nmean    0.052873   87.133865  24.807059   7.603237   40.698648  \nstd     0.048781   98.110692  21.520801   5.189652   27.853183  \nmin     0.010000    9.861400   5.001900   1.000000   10.000000  \n25%     0.010000   20.073825  11.860187   1.382278   15.036725  \n50%     0.010000   73.846420  15.446765   7.888350   38.592700  \n75%     0.102110   89.800530  33.978543  12.386498   62.423478  \nmax     0.126590  499.397200  95.391710  17.014910  100.003700  \n\n[8 rows x 121 columns]",
      "text/html": "\n  <div id=\"df-e159bf49-cf86-4a71-801a-6def06ffedce\">\n    <div class=\"colab-df-container\">\n      <div>\n<style scoped>\n    .dataframe tbody tr th:only-of-type {\n        vertical-align: middle;\n    }\n\n    .dataframe tbody tr th {\n        vertical-align: top;\n    }\n\n    .dataframe thead th {\n        text-align: right;\n    }\n</style>\n<table border=\"1\" class=\"dataframe\">\n  <thead>\n    <tr style=\"text-align: right;\">\n      <th></th>\n      <th>FECHA</th>\n      <th>ALC_TOT</th>\n      <th>HCO3</th>\n      <th>CLOROF_A</th>\n      <th>COLI_FEC</th>\n      <th>E_COLI</th>\n      <th>COT</th>\n      <th>COT_SOL</th>\n      <th>DBO_SOL</th>\n      <th>DBO_TOT</th>\n      <th>...</th>\n      <th>CLORUROS_SOL</th>\n      <th>FLUORUROS_SOL</th>\n      <th>SO4_SOL</th>\n      <th>FE_SOL</th>\n      <th>MN_SOL</th>\n      <th>ZN_SOL</th>\n      <th>CA_SOL</th>\n      <th>MG_SOL</th>\n      <th>K_SOL</th>\n      <th>NA_SOL</th>\n    </tr>\n  </thead>\n  <tbody>\n    <tr>\n      <th>count</th>\n      <td>327.000000</td>\n      <td>36.000000</td>\n      <td>35.000000</td>\n      <td>128.000000</td>\n      <td>268.000000</td>\n      <td>221.000000</td>\n      <td>323.000000</td>\n      <td>169.000000</td>\n      <td>119.000000</td>\n      <td>238.000000</td>\n      <td>...</td>\n      <td>36.000000</td>\n      <td>36.000000</td>\n      <td>36.000000</td>\n      <td>36.000000</td>\n      <td>37.000000</td>\n      <td>36.000000</td>\n      <td>36.000000</td>\n      <td>36.000000</td>\n      <td>36.000000</td>\n      <td>36.000000</td>\n    </tr>\n    <tr>\n      <th>mean</th>\n      <td>44168.006116</td>\n      <td>223.626389</td>\n      <td>218.333429</td>\n      <td>4.491612</td>\n      <td>1911.205224</td>\n      <td>1762.855204</td>\n      <td>3.446046</td>\n      <td>2.694876</td>\n      <td>4.069580</td>\n      <td>6.858655</td>\n      <td>...</td>\n      <td>74.677778</td>\n      <td>0.522672</td>\n      <td>110.944222</td>\n      <td>0.123125</td>\n      <td>1.203346</td>\n      <td>0.052873</td>\n      <td>87.133865</td>\n      <td>24.807059</td>\n      <td>7.603237</td>\n      <td>40.698648</td>\n    </tr>\n    <tr>\n      <th>std</th>\n      <td>169.010781</td>\n      <td>111.640475</td>\n      <td>108.590760</td>\n      <td>4.713215</td>\n      <td>4237.072451</td>\n      <td>4236.681555</td>\n      <td>3.815170</td>\n      <td>3.082648</td>\n      <td>2.605825</td>\n      <td>8.942780</td>\n      <td>...</td>\n      <td>84.386607</td>\n      <td>0.508808</td>\n      <td>282.288363</td>\n      <td>0.181679</td>\n      <td>7.065126</td>\n      <td>0.048781</td>\n      <td>98.110692</td>\n      <td>21.520801</td>\n      <td>5.189652</td>\n      <td>27.853183</td>\n    </tr>\n    <tr>\n      <th>min</th>\n      <td>44032.000000</td>\n      <td>58.260000</td>\n      <td>58.260000</td>\n      <td>0.500000</td>\n      <td>1.000000</td>\n      <td>1.000000</td>\n      <td>0.500000</td>\n      <td>0.500000</td>\n      <td>2.000000</td>\n      <td>2.000000</td>\n      <td>...</td>\n      <td>10.000000</td>\n      <td>0.200000</td>\n      <td>15.000000</td>\n      <td>0.025000</td>\n      <td>0.001500</td>\n      <td>0.010000</td>\n      <td>9.861400</td>\n      <td>5.001900</td>\n      <td>1.000000</td>\n      <td>10.000000</td>\n    </tr>\n    <tr>\n      <th>25%</th>\n      <td>44056.500000</td>\n      <td>116.510000</td>\n      <td>116.510000</td>\n      <td>0.952550</td>\n      <td>43.000000</td>\n      <td>43.000000</td>\n      <td>1.383000</td>\n      <td>0.910000</td>\n      <td>2.000000</td>\n      <td>2.602500</td>\n      <td>...</td>\n      <td>10.000000</td>\n      <td>0.200000</td>\n      <td>15.000000</td>\n      <td>0.031397</td>\n      <td>0.001500</td>\n      <td>0.010000</td>\n      <td>20.073825</td>\n      <td>11.860187</td>\n      <td>1.382278</td>\n      <td>15.036725</td>\n    </tr>\n    <tr>\n      <th>50%</th>\n      <td>44081.000000</td>\n      <td>216.220000</td>\n      <td>215.650000</td>\n      <td>3.345350</td>\n      <td>460.000000</td>\n      <td>240.000000</td>\n      <td>2.218000</td>\n      <td>1.557000</td>\n      <td>3.060000</td>\n      <td>4.850000</td>\n      <td>...</td>\n      <td>22.085000</td>\n      <td>0.243800</td>\n      <td>19.109150</td>\n      <td>0.093540</td>\n      <td>0.001500</td>\n      <td>0.010000</td>\n      <td>73.846420</td>\n      <td>15.446765</td>\n      <td>7.888350</td>\n      <td>38.592700</td>\n    </tr>\n    <tr>\n      <th>75%</th>\n      <td>44341.000000</td>\n      <td>313.002500</td>\n      <td>305.125000</td>\n      <td>5.975050</td>\n      <td>2100.000000</td>\n      <td>1500.000000</td>\n      <td>4.052000</td>\n      <td>3.247000</td>\n      <td>5.355000</td>\n      <td>8.227500</td>\n      <td>...</td>\n      <td>124.695000</td>\n      <td>0.605975</td>\n      <td>94.489075</td>\n      <td>0.120190</td>\n      <td>0.020900</td>\n      <td>0.102110</td>\n      <td>89.800530</td>\n      <td>33.978543</td>\n      <td>12.386498</td>\n      <td>62.423478</td>\n    </tr>\n    <tr>\n      <th>max</th>\n      <td>44481.000000</td>\n      <td>463.980000</td>\n      <td>463.980000</td>\n      <td>26.564700</td>\n      <td>24196.000000</td>\n      <td>24000.000000</td>\n      <td>36.166000</td>\n      <td>18.965000</td>\n      <td>13.620000</td>\n      <td>85.230000</td>\n      <td>...</td>\n      <td>243.190000</td>\n      <td>1.990000</td>\n      <td>1636.508600</td>\n      <td>1.017000</td>\n      <td>43.006900</td>\n      <td>0.126590</td>\n      <td>499.397200</td>\n      <td>95.391710</td>\n      <td>17.014910</td>\n      <td>100.003700</td>\n    </tr>\n  </tbody>\n</table>\n<p>8 rows × 121 columns</p>\n</div>\n      <button class=\"colab-df-convert\" onclick=\"convertToInteractive('df-e159bf49-cf86-4a71-801a-6def06ffedce')\"\n              title=\"Convert this dataframe to an interactive table.\"\n              style=\"display:none;\">\n        \n  <svg xmlns=\"http://www.w3.org/2000/svg\" height=\"24px\"viewBox=\"0 0 24 24\"\n       width=\"24px\">\n    <path d=\"M0 0h24v24H0V0z\" fill=\"none\"/>\n    <path d=\"M18.56 5.44l.94 2.06.94-2.06 2.06-.94-2.06-.94-.94-2.06-.94 2.06-2.06.94zm-11 1L8.5 8.5l.94-2.06 2.06-.94-2.06-.94L8.5 2.5l-.94 2.06-2.06.94zm10 10l.94 2.06.94-2.06 2.06-.94-2.06-.94-.94-2.06-.94 2.06-2.06.94z\"/><path d=\"M17.41 7.96l-1.37-1.37c-.4-.4-.92-.59-1.43-.59-.52 0-1.04.2-1.43.59L10.3 9.45l-7.72 7.72c-.78.78-.78 2.05 0 2.83L4 21.41c.39.39.9.59 1.41.59.51 0 1.02-.2 1.41-.59l7.78-7.78 2.81-2.81c.8-.78.8-2.07 0-2.86zM5.41 20L4 18.59l7.72-7.72 1.47 1.35L5.41 20z\"/>\n  </svg>\n      </button>\n      \n  <style>\n    .colab-df-container {\n      display:flex;\n      flex-wrap:wrap;\n      gap: 12px;\n    }\n\n    .colab-df-convert {\n      background-color: #E8F0FE;\n      border: none;\n      border-radius: 50%;\n      cursor: pointer;\n      display: none;\n      fill: #1967D2;\n      height: 32px;\n      padding: 0 0 0 0;\n      width: 32px;\n    }\n\n    .colab-df-convert:hover {\n      background-color: #E2EBFA;\n      box-shadow: 0px 1px 2px rgba(60, 64, 67, 0.3), 0px 1px 3px 1px rgba(60, 64, 67, 0.15);\n      fill: #174EA6;\n    }\n\n    [theme=dark] .colab-df-convert {\n      background-color: #3B4455;\n      fill: #D2E3FC;\n    }\n\n    [theme=dark] .colab-df-convert:hover {\n      background-color: #434B5C;\n      box-shadow: 0px 1px 3px 1px rgba(0, 0, 0, 0.15);\n      filter: drop-shadow(0px 1px 2px rgba(0, 0, 0, 0.3));\n      fill: #FFFFFF;\n    }\n  </style>\n\n      <script>\n        const buttonEl =\n          document.querySelector('#df-e159bf49-cf86-4a71-801a-6def06ffedce button.colab-df-convert');\n        buttonEl.style.display =\n          google.colab.kernel.accessAllowed ? 'block' : 'none';\n\n        async function convertToInteractive(key) {\n          const element = document.querySelector('#df-e159bf49-cf86-4a71-801a-6def06ffedce');\n          const dataTable =\n            await google.colab.kernel.invokeFunction('convertToInteractive',\n                                                     [key], {});\n          if (!dataTable) return;\n\n          const docLinkHtml = 'Like what you see? Visit the ' +\n            '<a target=\"_blank\" href=https://colab.research.google.com/notebooks/data_table.ipynb>data table notebook</a>'\n            + ' to learn more about interactive tables.';\n          element.innerHTML = '';\n          dataTable['output_type'] = 'display_data';\n          await google.colab.output.renderOutput(dataTable, element);\n          const docLink = document.createElement('div');\n          docLink.innerHTML = docLinkHtml;\n          element.appendChild(docLink);\n        }\n      </script>\n    </div>\n  </div>\n  "
     },
     "metadata": {},
     "execution_count": 13
    }
   ]
  },
  {
   "cell_type": "code",
   "metadata": {
    "id": "lEl0JElmr-Bw",
    "colab": {
     "base_uri": "https://localhost:8080/"
    },
    "outputId": "65753d22-f68b-4697-e4ff-ce7b60e85f33",
    "cell_id": "00015-210ca4c1-7329-42b2-b0c3-e3fd60d588d8",
    "deepnote_cell_type": "code"
   },
   "source": "  ## batch k-means\n\n  # al ser aprendizaje no supervisado, no separamos nuestro datasets en partes  \n  # eliminaremos los nombres de los caramelos, ya que eso no nos sirve para el algoritmo \n  X = ch_dbo_1_0_0.drop('FECHA', axis=1)\n\n  kmeans = MiniBatchKMeans(n_clusters = 6,batch_size = 8).fit(X) \n  \n  print('Total de centros: ', len(kmeans.cluster_centers_)) \n  print('*'*64) \n  print(kmeans.predict(X)) \n    \n  ch_dbo_1_0_0['group'] = kmeans.predict(X) \n      \n  print(ch_dbo_1_0_0)",
   "execution_count": null,
   "outputs": [
    {
     "output_type": "stream",
     "name": "stdout",
     "text": "Total de centros:  6\n****************************************************************\n[5 5 5 5 5 5 5 5 5 5 3 5 5 5 5 5 5 5 5 5 5 5 5 5 5 5 5 5 5 5 5 5 5 5 5 5 5\n 5 5 5 5 5 5 5 5 5 5 5 5 5 5 5 5 5 5 5 5 5 5 5 5 5 5 5 5 5 3 5 5 3 5 3 5 3\n 5 5 5 5 4 5 5 5 2 2 2 2 5 5 3 5 5 5 5 4 5 5 5 4 4 5 5 5 2 5 4 5 5 5 5 5 5\n 5 5 5 5 5 5 2 5 5 3 3 4 5 5 5 5 5 5 5 5 5 5 5 5 5 3 5 5 5 5 5 2 5 5 5 5 5\n 3 3 5 5 5 5 2 4 5 3 5 5 2 2 4 4 5 3 3 5 2 5 5 5 5 5 5 5 5 5 0 4 4 0 5 5 2\n 5 5 5 5 5 5 5 5 5 5 5 3 5 5 5 5 5 5 5 1 5 5 5 5 5 5 5 5 5 5 5 5 1 5 5 5 5\n 2 5 5 5 2 5 1 5 4 4 5 5 5 3 5 5 5 1 0 5 0 5 5 5 5 5 2 4 4 5 5 5 5 5 5 5 5\n 1 5 0 5 5 4 5 5 5 5 0 5 5 5 1 0 5 1 1 5 5 4 5 0 5 5 5 0 5 5 2 5 5 5 5 5 5\n 5 2 5 5 5 0 5 5 5 2 2 5 5 5 5 0 0 5 5 5 5 0 0 0 0 5 5 5 5 5 5]\n     FECHA  ALC_TOT   HCO3  CLOROF_A  COLI_FEC  E_COLI     COT  COT_SOL  \\\n0    44032      0.0    0.0  23.13460      15.0    15.0  1.1930   0.9930   \n1    44032      0.0    0.0   0.00000     390.0   230.0  2.3890   0.0000   \n2    44033      0.0    0.0   0.00000     930.0   430.0  1.9330   0.0000   \n3    44033      0.0    0.0   5.13640       0.0     0.0  2.7000   1.8650   \n4    44033      0.0    0.0   0.00000     280.0   280.0  2.0350   0.0000   \n..     ...      ...    ...       ...       ...     ...     ...      ...   \n322  44466      0.0    0.0   0.00000      23.0     0.0  0.5000   0.0000   \n323  44466      0.0    0.0  11.02070       0.0     0.0  1.4979   0.7007   \n324  44466      0.0    0.0  11.02707     210.0   150.0  1.4979   0.7007   \n325  44480    353.4  353.4   0.00000      75.0     0.0  0.5000   0.0000   \n326  44481      0.0    0.0   0.00000     150.0   150.0  5.1910   4.2150   \n\n     DBO_SOL  DBO_TOT  ...  FLUORUROS_SOL  SO4_SOL  FE_SOL  MN_SOL  ZN_SOL  \\\n0       7.44     8.88  ...            0.0      0.0     0.0     0.0     0.0   \n1       0.00     2.78  ...            0.0      0.0     0.0     0.0     0.0   \n2       0.00     3.60  ...            0.0      0.0     0.0     0.0     0.0   \n3       0.00     0.00  ...            0.0      0.0     0.0     0.0     0.0   \n4       0.00     2.85  ...            0.0      0.0     0.0     0.0     0.0   \n..       ...      ...  ...            ...      ...     ...     ...     ...   \n322     0.00     0.00  ...            0.0      0.0     0.0     0.0     0.0   \n323     8.22     9.15  ...            0.0      0.0     0.0     0.0     0.0   \n324     8.22     9.15  ...            0.0      0.0     0.0     0.0     0.0   \n325     0.00     0.00  ...            0.0      0.0     0.0     0.0     0.0   \n326     6.24     7.11  ...            0.0      0.0     0.0     0.0     0.0   \n\n     CA_SOL  MG_SOL  K_SOL  NA_SOL  group  \n0       0.0     0.0    0.0     0.0      5  \n1       0.0     0.0    0.0     0.0      5  \n2       0.0     0.0    0.0     0.0      5  \n3       0.0     0.0    0.0     0.0      5  \n4       0.0     0.0    0.0     0.0      5  \n..      ...     ...    ...     ...    ...  \n322     0.0     0.0    0.0     0.0      5  \n323     0.0     0.0    0.0     0.0      5  \n324     0.0     0.0    0.0     0.0      5  \n325     0.0     0.0    0.0     0.0      5  \n326     0.0     0.0    0.0     0.0      5  \n\n[327 rows x 122 columns]\n"
    }
   ]
  },
  {
   "cell_type": "markdown",
   "source": "<a style='text-decoration:none;line-height:16px;display:flex;color:#5B5B62;padding:10px;justify-content:end;' href='https://deepnote.com?utm_source=created-in-deepnote-cell&projectId=41369edc-cd57-4aa2-ba72-81809a5fcc65' target=\"_blank\">\n<img alt='Created in deepnote.com' style='display:inline;max-height:16px;margin:0px;margin-right:7.5px;' src='data:image/svg+xml;base64,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' > </img>\nCreated in <span style='font-weight:600;margin-left:4px;'>Deepnote</span></a>",
   "metadata": {
    "tags": [],
    "created_in_deepnote_cell": true,
    "deepnote_cell_type": "markdown"
   }
  }
 ],
 "nbformat": 4,
 "nbformat_minor": 0,
 "metadata": {
  "colab": {
   "provenance": [],
   "toc_visible": true
  },
  "kernelspec": {
   "name": "python3",
   "display_name": "Python 3"
  },
  "language_info": {
   "name": "python"
  },
  "deepnote_notebook_id": "1c1d1077-575a-4fc1-824d-95bf60531e73",
  "deepnote": {},
  "deepnote_execution_queue": []
 }
}