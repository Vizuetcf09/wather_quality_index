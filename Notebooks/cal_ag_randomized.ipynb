{
  "nbformat": 4,
  "nbformat_minor": 0,
  "metadata": {
    "colab": {
      "provenance": [],
      "collapsed_sections": [
        "IcnIOMIAAemN"
      ]
    },
    "kernelspec": {
      "name": "python3",
      "display_name": "Python 3"
    },
    "language_info": {
      "name": "python"
    },
    "gpuClass": "standard"
  },
  "cells": [
    {
      "cell_type": "markdown",
      "source": [
        "# ***Titulo***"
      ],
      "metadata": {
        "id": "6aP3iRa9rNkY"
      }
    },
    {
      "cell_type": "markdown",
      "source": [
        "# **Predicción de la Calidad del Agua en México Mediante Algoritmos de Aprendizaje Automático**\n",
        "\n",
        "***`Vizuet_CF ⛺`***\n",
        "\n"
      ],
      "metadata": {
        "id": "IFv18hov-xU2"
      }
    },
    {
      "cell_type": "markdown",
      "source": [
        "## **Descripción**\n",
        "\n",
        "Se utilizaron los datos de la calidad del agua (CA), provenientes de la Comisión Nacional del Agua (CONAGUA., 2021), que consta de 2,500 sitios de monitoreo, de los cuales 788 corresponden al análisis de aguas superficiales que considera 8 indicadores."
      ],
      "metadata": {
        "id": "Z1_kaM-WrU_O"
      }
    },
    {
      "cell_type": "markdown",
      "source": [
        "### **Indicadores**\n",
        "\n",
        "1. Demanda Bioquímica de Oxígeno a cinco días (DBO5)\n",
        "2. Demanda Química de Oxígeno (DQO)\n",
        "3. Sólidos Suspendidos Totales (SST)\n",
        "4. Coliformes Fecales (CF)\n",
        "5. *Escherichia coli* (E_COLI)\n",
        "6. Enterococos (ENTEROC)\n",
        "7. Porcentaje de Saturación de Oxigeno (OD%)\n",
        "8. Toxicidad (TOX)"
      ],
      "metadata": {
        "id": "dw9WWIPe3D8f"
      }
    },
    {
      "cell_type": "markdown",
      "source": [
        "## **Semáforo**\n",
        "\n",
        "La calidad del agua se determinó a través de un semáforo que considera 3 colores verde, amarillo y rojo, y se obtiene integrando los resultados de los 8 indicadores antes mencionados (CONAGUA., 2021)."
      ],
      "metadata": {
        "id": "N4wRrH02C7VY"
      }
    },
    {
      "cell_type": "markdown",
      "source": [
        "## **Preprocesamiento de los datos**\n",
        "\n",
        "Se eliminaron dos indicadores de la CA (ENTEROC y TOX); el data set utilizado está compuesto por 8 columnas."
      ],
      "metadata": {
        "id": "Rr2B6_to4SAh"
      }
    },
    {
      "cell_type": "markdown",
      "source": [
        "**Nombre de las columnas**\n",
        "1. DBO_mg/L\n",
        "2. DQO_mg/L              \n",
        "3. SST_mg/L              \n",
        "4. COLI_FEC_NMP_100mL    \n",
        "5. E_COLI_NMP_100mL      \n",
        "6. OD_PORC               \n",
        "7. SEMAFORO               \n",
        "8. NUM_SEMAFORO"
      ],
      "metadata": {
        "id": "00HQgbSj3N35"
      }
    },
    {
      "cell_type": "markdown",
      "source": [
        "Los colores del semáforo de la calidad del agua se ordenaron alfabéticamente y se les asignó un numero (1, 2 y 3); posteriormente se almacenaron en la columna 8 (NUM_SEMAFORO)."
      ],
      "metadata": {
        "id": "JggmITIbEeWZ"
      }
    },
    {
      "cell_type": "markdown",
      "source": [
        "**Numero por color**\n",
        "\n",
        "- Amarillo - 1\n",
        "- Rojo - 2\n",
        "- Verde - 3"
      ],
      "metadata": {
        "id": "K6XOwquWGNVP"
      }
    },
    {
      "cell_type": "markdown",
      "source": [
        "## **Entrenamiento**\n",
        "\n",
        "Para el entrenamiento del modelo se tomaron en cuenta 6 indicadores (DBO5, DQO, SST, CF, E_COLIi y OD%) para predecir la CA de acuerdo al numero asignado para cada color del semaforo."
      ],
      "metadata": {
        "id": "yJqlcMUkIthI"
      }
    },
    {
      "cell_type": "markdown",
      "source": [
        "## Randomized"
      ],
      "metadata": {
        "id": "L5GAKr1x3gx_"
      }
    },
    {
      "cell_type": "markdown",
      "source": [
        "### Importamos las librerías"
      ],
      "metadata": {
        "id": "mkMq_NJBFI1u"
      }
    },
    {
      "cell_type": "code",
      "source": [
        "# librerias\n",
        "import pandas as pd\n",
        "import numpy as np\n",
        "# modulos\n",
        "from sklearn.model_selection import RandomizedSearchCV\n",
        "from sklearn.ensemble import RandomForestRegressor\n",
        "\n",
        "import gspread\n",
        "from oauth2client.service_account import ServiceAccountCredentials\n",
        "\n",
        "import warnings\n",
        "warnings.filterwarnings(\"ignore\")"
      ],
      "metadata": {
        "id": "DQzPcgx887lE"
      },
      "execution_count": 1,
      "outputs": []
    },
    {
      "cell_type": "markdown",
      "source": [
        "# **Algoritmo**"
      ],
      "metadata": {
        "id": "5bSdt1t_KyC3"
      }
    },
    {
      "cell_type": "markdown",
      "source": [
        "### Creamos la conexión con Google o subimos el archivo desde nuestra computadora"
      ],
      "metadata": {
        "id": "pooErrIXOTGW"
      }
    },
    {
      "cell_type": "code",
      "source": [
        "if __name__ == \"__main__\":\n",
        "\n",
        "    # creamos la conexión con google\n",
        "\n",
        "    from google.colab import drive\n",
        "    drive.mount('/content/drive')    # nobre de la conexion\n",
        "\n",
        "    # o subimos un archivo (si es necesario)\n",
        "\n",
        "    # from google.colab import files\n",
        "    # Uploaded = files.upload()"
      ],
      "metadata": {
        "id": "gDv1BFUaCjB-",
        "colab": {
          "base_uri": "https://localhost:8080/"
        },
        "outputId": "df4af29d-8fab-4b0b-ffc3-ea665761a23d"
      },
      "execution_count": 2,
      "outputs": [
        {
          "output_type": "stream",
          "name": "stdout",
          "text": [
            "Mounted at /content/drive\n"
          ]
        }
      ]
    },
    {
      "cell_type": "markdown",
      "source": [
        "### Creamos una variable con el nuevo archivo"
      ],
      "metadata": {
        "id": "A8YL1xFcOvI5"
      }
    },
    {
      "cell_type": "code",
      "source": [
        "    ## leemos los archivos\n",
        "\n",
        "    ### leemos el archivo y especificamos la hoja que usaremos como df\n",
        "    dataset = pd.read_excel('/content/drive/MyDrive/UAM/Calidad del agua /ica_sup_1.xlsx')\n",
        "\n",
        "\n",
        "    ## tratamiento de los valores atipicos y nulos\n",
        "\n",
        "    ### eliminar los valores nulos\n",
        "    ch_dbo_1_0 = dataset.dropna()\n",
        "\n",
        "    ### cambia los valores atipicos por 0\n",
        "    ch_dbo_1_0_0 = ch_dbo_1_0.replace({'<30':30, '<3':3, '<2':2, '<10':10})\n",
        "\n",
        "    ### tamaño de los datos\n",
        "    print(dataset.shape)\n",
        "    print(ch_dbo_1_0.shape)\n",
        "    # ### tipos de datos\n",
        "    print(ch_dbo_1_0_0.dtypes)\n",
        "    ### descripción del df\n",
        "    print(ch_dbo_1_0_0.describe())\n",
        "    ### eliminamos las columnas que no usaremos\n",
        "    ch_dbo_1_0_1 = ch_dbo_1_0_0.drop('SITIO', axis = 1)\n",
        "    print(ch_dbo_1_0_1)\n",
        "\n",
        "    # ch_dbo_1_0_1.to_csv('ind_ica.csv')\n",
        "\n",
        "    # from google.colab import files\n",
        "    # files.download('ind_ica.csv')"
      ],
      "metadata": {
        "id": "lAEAkOY6HuB3",
        "colab": {
          "base_uri": "https://localhost:8080/"
        },
        "outputId": "4ff07e84-91be-4379-b7c7-2348d374f6e5"
      },
      "execution_count": 7,
      "outputs": [
        {
          "output_type": "stream",
          "name": "stdout",
          "text": [
            "(4341, 9)\n",
            "(2268, 9)\n",
            "SITIO                  object\n",
            "DBO_mg/L              float64\n",
            "DQO_mg/L              float64\n",
            "SST_mg/L              float64\n",
            "COLI_FEC_NMP_100mL    float64\n",
            "E_COLI_NMP_100mL      float64\n",
            "OD_PORC               float64\n",
            "SEMAFORO               object\n",
            "NUM_SEMAFORO            int64\n",
            "dtype: object\n",
            "          DBO_mg/L     DQO_mg/L     SST_mg/L  COLI_FEC_NMP_100mL  \\\n",
            "count  2268.000000  2268.000000  2268.000000        2.268000e+03   \n",
            "mean     22.481809    78.710625    50.311574        1.465129e+04   \n",
            "std      90.955348   253.712341   149.143927        9.360976e+04   \n",
            "min       2.000000    10.000000    10.000000        3.000000e+00   \n",
            "25%       2.000000    15.255000    11.000000        1.100000e+03   \n",
            "50%       2.972500    26.975000    24.000000        2.812500e+03   \n",
            "75%      10.866250    57.000000    52.000000        2.400000e+04   \n",
            "max    2550.960000  7632.000000  4276.000000        2.419600e+06   \n",
            "\n",
            "       E_COLI_NMP_100mL      OD_PORC  NUM_SEMAFORO  \n",
            "count      2.268000e+03  2268.000000   2268.000000  \n",
            "mean       9.580880e+03    68.966394      1.734127  \n",
            "std        8.089941e+04    28.332203      0.741569  \n",
            "min        3.000000e+00    10.000000      1.000000  \n",
            "25%        1.200000e+02    53.037500      1.000000  \n",
            "50%        5.185000e+02    73.850000      2.000000  \n",
            "75%        4.600000e+03    91.462500      2.000000  \n",
            "max        2.419600e+06   148.100000      3.000000  \n",
            "      DBO_mg/L  DQO_mg/L  SST_mg/L  COLI_FEC_NMP_100mL  E_COLI_NMP_100mL  \\\n",
            "0        2.000   15.3850    11.835                41.5              30.0   \n",
            "1        6.035   31.9928    33.125              3803.5             219.5   \n",
            "6        2.840   21.3200    10.000              1722.0              62.0   \n",
            "7        5.765   22.9900    18.000              4600.0            4600.0   \n",
            "8        9.625   43.5850    28.000             24000.0           24000.0   \n",
            "...        ...       ...       ...                 ...               ...   \n",
            "4329     3.750   40.8450    11.000               930.0             355.0   \n",
            "4330    15.000  102.5200    31.940             24000.0            4600.0   \n",
            "4331     3.400   29.8200    10.000              4600.0            1100.0   \n",
            "4332     2.610   36.6160    65.000              4600.0            1300.0   \n",
            "4336     2.210  140.0100    33.000                 4.0             230.0   \n",
            "\n",
            "      OD_PORC  SEMAFORO  NUM_SEMAFORO  \n",
            "0     100.400     Verde             3  \n",
            "1      96.550  Amarillo             1  \n",
            "6      98.200  Amarillo             1  \n",
            "7      53.500  Amarillo             1  \n",
            "8      34.975      Rojo             2  \n",
            "...       ...       ...           ...  \n",
            "4329   41.150      Rojo             2  \n",
            "4330   48.700      Rojo             2  \n",
            "4331   43.650  Amarillo             1  \n",
            "4332   61.000  Amarillo             1  \n",
            "4336   38.705      Rojo             2  \n",
            "\n",
            "[2268 rows x 8 columns]\n"
          ]
        }
      ]
    },
    {
      "cell_type": "markdown",
      "source": [
        "## Entrenamiento"
      ],
      "metadata": {
        "id": "IcnIOMIAAemN"
      }
    },
    {
      "cell_type": "code",
      "source": [
        "    # es importante que exista una correlacion  entre las features y la variable que queremos predecir y no es necesarios que los features la tengan\n",
        "\n",
        "    X = ch_dbo_1_0_1.drop(['SEMAFORO', 'NUM_SEMAFORO'], axis=1)\n",
        "    y = ch_dbo_1_0_1[['NUM_SEMAFORO']]\n",
        "    reg = RandomForestRegressor()\n",
        "\n",
        "    parameters = {\n",
        "        'n_estimators': range(4, 16), # cuantos arboles compondran mi arbol\n",
        "        'criterion': ['friedman_mse', 'absolute_error'],\n",
        "        'max_depth': range(2, 11)\n",
        "    }\n",
        "\n",
        "    ### son 10 iteracion del optimizador. Toma 10 combinaciones al azar del diccionario, cv = 3, parte en 3 parte el set de datos que le pasemos, para hacer Cross validation\n",
        "    rand_est = RandomizedSearchCV(reg, parameters, n_iter = 5, cv = 3, scoring = 'neg_mean_absolute_error').fit(X, y)"
      ],
      "metadata": {
        "id": "Q1-Je0R22Zob"
      },
      "execution_count": 8,
      "outputs": []
    },
    {
      "cell_type": "markdown",
      "source": [
        "## Predicciones y Pruebas"
      ],
      "metadata": {
        "id": "-aM2TJVtqjJJ"
      }
    },
    {
      "cell_type": "code",
      "source": [
        "    ## mejores estimadores y parametros\n",
        "\n",
        "    print('='*64)\n",
        "    print(\"Mejores estimadores\")\n",
        "    print('-'*64)\n",
        "    print(rand_est.best_estimator_)\n",
        "    print('='*64)\n",
        "    print(\"Mejores parametros\")\n",
        "    print('-'*64)\n",
        "    print(rand_est.best_params_)\n",
        "    print('='*64)\n",
        "\n",
        "    ## pruebas\n",
        "\n",
        "    print('Pruebas')\n",
        "    print('-'*64)\n",
        "    y_hat = rand_est.predict(X.loc[[13]])\n",
        "\n",
        "    ## datos reales\n",
        "\n",
        "    print(f'Real:    {y.loc[13]}')\n",
        "    print('='*64)\n",
        "\n",
        "    ## predicciones\n",
        "\n",
        "    print(f'Predict: {y_hat[0]}')"
      ],
      "metadata": {
        "id": "I0yDGgvh5d-E",
        "colab": {
          "base_uri": "https://localhost:8080/"
        },
        "outputId": "b3ffd728-2a55-4043-a775-fc67f8210276"
      },
      "execution_count": 17,
      "outputs": [
        {
          "output_type": "stream",
          "name": "stdout",
          "text": [
            "================================================================\n",
            "Mejores estimadores\n",
            "----------------------------------------------------------------\n",
            "RandomForestRegressor(criterion='absolute_error', max_depth=3, n_estimators=4)\n",
            "================================================================\n",
            "Mejores parametros\n",
            "----------------------------------------------------------------\n",
            "{'n_estimators': 4, 'max_depth': 3, 'criterion': 'absolute_error'}\n",
            "================================================================\n",
            "Pruebas\n",
            "----------------------------------------------------------------\n",
            "Real:    NUM_SEMAFORO    1\n",
            "Name: 13, dtype: int64\n",
            "================================================================\n",
            "Predict: 1.0\n"
          ]
        }
      ]
    },
    {
      "cell_type": "code",
      "source": [
        "    X_test = np.array([5.58,39.92,14.175,5172.0,925.0,52.8])\n",
        "    y_pre = rand_est.predict(X_test.reshape(1, -1))\n",
        "\n",
        "    print(f'''El ICA  es:\n",
        "    Redondeo: {np.round(y_pre[0], 0)}\n",
        "    Sin redondear: {y_pre}''')"
      ],
      "metadata": {
        "id": "Lobpi-s3THQd",
        "colab": {
          "base_uri": "https://localhost:8080/"
        },
        "outputId": "156e1123-1afb-4efb-9b22-3ecbd35e1832"
      },
      "execution_count": 19,
      "outputs": [
        {
          "output_type": "stream",
          "name": "stdout",
          "text": [
            "El ICA  es:\n",
            "Redondeo: 1.0\n",
            "Sin redondear: [1.]\n"
          ]
        }
      ]
    }
  ]
}