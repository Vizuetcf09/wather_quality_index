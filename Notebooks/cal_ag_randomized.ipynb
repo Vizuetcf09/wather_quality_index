{
  "nbformat": 4,
  "nbformat_minor": 0,
  "metadata": {
    "colab": {
      "provenance": [],
      "collapsed_sections": [
        "mkMq_NJBFI1u",
        "pooErrIXOTGW",
        "A8YL1xFcOvI5",
        "IcnIOMIAAemN"
      ],
      "toc_visible": true
    },
    "kernelspec": {
      "name": "python3",
      "display_name": "Python 3"
    },
    "language_info": {
      "name": "python"
    },
    "gpuClass": "standard"
  },
  "cells": [
    {
      "cell_type": "markdown",
      "source": [
        "# ***Titulo***"
      ],
      "metadata": {
        "id": "6aP3iRa9rNkY"
      }
    },
    {
      "cell_type": "markdown",
      "source": [
        "# **Predicción de la Calidad del Agua en México Mediante Algoritmos de Aprendizaje Automático**\n",
        "\n",
        "***`Vizuet_CF ⛺`***\n",
        "\n"
      ],
      "metadata": {
        "id": "IFv18hov-xU2"
      }
    },
    {
      "cell_type": "markdown",
      "source": [
        "## **Descripción**\n",
        "\n",
        "Se utilizaron los datos de la calidad del agua (CA), provenientes de la Comisión Nacional del Agua (CONAGUA., 2021), que consta de 2,500 sitios de monitoreo, de los cuales 788 corresponden al análisis de aguas superficiales que considera 8 indicadores."
      ],
      "metadata": {
        "id": "Z1_kaM-WrU_O"
      }
    },
    {
      "cell_type": "markdown",
      "source": [
        "### **Indicadores**\n",
        "\n",
        "1. Demanda Bioquímica de Oxígeno a cinco días (DBO5)\n",
        "2. Demanda Química de Oxígeno (DQO)\n",
        "3. Sólidos Suspendidos Totales (SST)\n",
        "4. Coliformes Fecales (CF)\n",
        "5. *Escherichia coli* (E_COLI)\n",
        "6. Enterococos (ENTEROC)\n",
        "7. Porcentaje de Saturación de Oxigeno (OD%)\n",
        "8. Toxicidad (TOX)"
      ],
      "metadata": {
        "id": "dw9WWIPe3D8f"
      }
    },
    {
      "cell_type": "markdown",
      "source": [
        "## **Semáforo**\n",
        "\n",
        "La calidad del agua se determinó a través de un semáforo que considera 3 colores verde, amarillo y rojo, y se obtiene integrando los resultados de los 8 indicadores antes mencionados (CONAGUA., 2021)."
      ],
      "metadata": {
        "id": "N4wRrH02C7VY"
      }
    },
    {
      "cell_type": "markdown",
      "source": [
        "## **Preprocesamiento de los datos**\n",
        "\n",
        "Se eliminaron dos indicadores de la CA (ENTEROC y TOX); el data set utilizado está compuesto por 8 columnas."
      ],
      "metadata": {
        "id": "Rr2B6_to4SAh"
      }
    },
    {
      "cell_type": "markdown",
      "source": [
        "**Nombre de las columnas**\n",
        "1. DBO_mg/L\n",
        "2. DQO_mg/L              \n",
        "3. SST_mg/L              \n",
        "4. COLI_FEC_NMP_100mL    \n",
        "5. E_COLI_NMP_100mL      \n",
        "6. OD_PORC               \n",
        "7. SEMAFORO               \n",
        "8. NUM_SEMAFORO"
      ],
      "metadata": {
        "id": "00HQgbSj3N35"
      }
    },
    {
      "cell_type": "markdown",
      "source": [
        "Los colores del semáforo de la calidad del agua se ordenaron alfabéticamente y se les asignó un numero (1, 2 y 3); posteriormente se almacenaron en la columna 8 (NUM_SEMAFORO)."
      ],
      "metadata": {
        "id": "JggmITIbEeWZ"
      }
    },
    {
      "cell_type": "markdown",
      "source": [
        "**Numero por color**\n",
        "\n",
        "- Amarillo - 1\n",
        "- Rojo - 2\n",
        "- Verde - 3"
      ],
      "metadata": {
        "id": "K6XOwquWGNVP"
      }
    },
    {
      "cell_type": "markdown",
      "source": [
        "## **Entrenamiento**\n",
        "\n",
        "Para el entrenamiento del modelo se tomaron en cuenta 6 indicadores (DBO5, DQO, SST, CF, E_COLIi y OD%) para predecir la CA de acuerdo al numero asignado para cada color del semaforo."
      ],
      "metadata": {
        "id": "yJqlcMUkIthI"
      }
    },
    {
      "cell_type": "markdown",
      "source": [
        "## Randomized"
      ],
      "metadata": {
        "id": "L5GAKr1x3gx_"
      }
    },
    {
      "cell_type": "markdown",
      "source": [
        "### Importamos las librerías"
      ],
      "metadata": {
        "id": "mkMq_NJBFI1u"
      }
    },
    {
      "cell_type": "code",
      "source": [
        "# librerias\n",
        "import pandas as pd\n",
        "import numpy as np\n",
        "# modulos\n",
        "from sklearn.model_selection import RandomizedSearchCV\n",
        "from sklearn.ensemble import RandomForestRegressor\n",
        "\n",
        "import warnings\n",
        "warnings.filterwarnings(\"ignore\")"
      ],
      "metadata": {
        "id": "DQzPcgx887lE"
      },
      "execution_count": null,
      "outputs": []
    },
    {
      "cell_type": "markdown",
      "source": [
        "# **Algoritmo**"
      ],
      "metadata": {
        "id": "5bSdt1t_KyC3"
      }
    },
    {
      "cell_type": "markdown",
      "source": [
        "### Creamos la conexión con Google o subimos el archivo desde nuestra computadora"
      ],
      "metadata": {
        "id": "pooErrIXOTGW"
      }
    },
    {
      "cell_type": "code",
      "source": [
        "if __name__ == \"__main__\":\n",
        "\n",
        "    # creamos la conexión con google\n",
        "\n",
        "    from google.colab import drive\n",
        "    drive.mount('/content/drive')    # nobre de la conexion\n",
        "\n",
        "    # o subimos un archivo (si es necesario)\n",
        "\n",
        "    # from google.colab import files\n",
        "    # Uploaded = files.upload()"
      ],
      "metadata": {
        "id": "gDv1BFUaCjB-",
        "colab": {
          "base_uri": "https://localhost:8080/"
        },
        "outputId": "b2903413-17cb-46cd-dcb9-060eea7b665e"
      },
      "execution_count": null,
      "outputs": [
        {
          "output_type": "stream",
          "name": "stdout",
          "text": [
            "Mounted at /content/drive\n"
          ]
        }
      ]
    },
    {
      "cell_type": "markdown",
      "source": [
        "### Creamos una variable con el nuevo archivo"
      ],
      "metadata": {
        "id": "A8YL1xFcOvI5"
      }
    },
    {
      "cell_type": "code",
      "source": [
        "    ## leemos los archivos\n",
        "\n",
        "    ### leemos el archivo y especificamos la hoja que usaremos como df\n",
        "    dataset = pd.read_excel('/content/drive/MyDrive/UAM/Calidad del agua /ica_sup_1.xlsx')\n",
        "\n",
        "    ## tratamiento de los valores atipicos y nulos\n",
        "\n",
        "    ### eliminar los valores nulos\n",
        "    ch_dbo_1_0 = dataset.dropna()\n",
        "\n",
        "    ### cambia los valores atipicos por 0\n",
        "    ch_dbo_1_0_0 = ch_dbo_1_0.replace({'<30':30, '<3':3, '<2':2, '<10':10})\n",
        "\n",
        "    ### tamaño de los datos\n",
        "    print(dataset.shape)\n",
        "    print(ch_dbo_1_0.shape)\n",
        "    # ### tipos de datos\n",
        "    print(ch_dbo_1_0_0.dtypes)\n",
        "    ### descripción del df\n",
        "    print(ch_dbo_1_0_0.describe())\n",
        "    ### eliminamos las columnas que no usaremos\n",
        "    ch_dbo_1_0_1 = ch_dbo_1_0_0.drop('SITIO', axis = 1)\n",
        "    print(ch_dbo_1_0_1)\n",
        "\n",
        "    # ch_dbo_1_0_1.to_csv('ind_ica.csv')\n",
        "\n",
        "    # from google.colab import files\n",
        "    # files.download('ind_ica.csv')"
      ],
      "metadata": {
        "id": "lAEAkOY6HuB3",
        "colab": {
          "base_uri": "https://localhost:8080/",
          "height": 373
        },
        "outputId": "b264a0fd-ef29-4b46-e025-e2bb09adfd46"
      },
      "execution_count": null,
      "outputs": [
        {
          "output_type": "error",
          "ename": "FileNotFoundError",
          "evalue": "[Errno 2] No such file or directory: '/content/drive/MyDrive/UAM/Calidad del agua /ica_sup_1.xlsx'",
          "traceback": [
            "\u001b[0;31m---------------------------------------------------------------------------\u001b[0m",
            "\u001b[0;31mFileNotFoundError\u001b[0m                         Traceback (most recent call last)",
            "\u001b[0;32m<ipython-input-3-c7f8fcd45b58>\u001b[0m in \u001b[0;36m<cell line: 4>\u001b[0;34m()\u001b[0m\n\u001b[1;32m      2\u001b[0m \u001b[0;34m\u001b[0m\u001b[0m\n\u001b[1;32m      3\u001b[0m \u001b[0;31m### leemos el archivo y especificamos la hoja que usaremos como df\u001b[0m\u001b[0;34m\u001b[0m\u001b[0;34m\u001b[0m\u001b[0m\n\u001b[0;32m----> 4\u001b[0;31m \u001b[0mdataset\u001b[0m \u001b[0;34m=\u001b[0m \u001b[0mpd\u001b[0m\u001b[0;34m.\u001b[0m\u001b[0mread_excel\u001b[0m\u001b[0;34m(\u001b[0m\u001b[0;34m'/content/drive/MyDrive/UAM/Calidad del agua /ica_sup_1.xlsx'\u001b[0m\u001b[0;34m)\u001b[0m\u001b[0;34m\u001b[0m\u001b[0;34m\u001b[0m\u001b[0m\n\u001b[0m\u001b[1;32m      5\u001b[0m \u001b[0;34m\u001b[0m\u001b[0m\n\u001b[1;32m      6\u001b[0m \u001b[0;31m## tratamiento de los valores atipicos y nulos\u001b[0m\u001b[0;34m\u001b[0m\u001b[0;34m\u001b[0m\u001b[0m\n",
            "\u001b[0;32m/usr/local/lib/python3.10/dist-packages/pandas/io/excel/_base.py\u001b[0m in \u001b[0;36mread_excel\u001b[0;34m(io, sheet_name, header, names, index_col, usecols, dtype, engine, converters, true_values, false_values, skiprows, nrows, na_values, keep_default_na, na_filter, verbose, parse_dates, date_parser, date_format, thousands, decimal, comment, skipfooter, storage_options, dtype_backend, engine_kwargs)\u001b[0m\n\u001b[1;32m    493\u001b[0m     \u001b[0;32mif\u001b[0m \u001b[0;32mnot\u001b[0m \u001b[0misinstance\u001b[0m\u001b[0;34m(\u001b[0m\u001b[0mio\u001b[0m\u001b[0;34m,\u001b[0m \u001b[0mExcelFile\u001b[0m\u001b[0;34m)\u001b[0m\u001b[0;34m:\u001b[0m\u001b[0;34m\u001b[0m\u001b[0;34m\u001b[0m\u001b[0m\n\u001b[1;32m    494\u001b[0m         \u001b[0mshould_close\u001b[0m \u001b[0;34m=\u001b[0m \u001b[0;32mTrue\u001b[0m\u001b[0;34m\u001b[0m\u001b[0;34m\u001b[0m\u001b[0m\n\u001b[0;32m--> 495\u001b[0;31m         io = ExcelFile(\n\u001b[0m\u001b[1;32m    496\u001b[0m             \u001b[0mio\u001b[0m\u001b[0;34m,\u001b[0m\u001b[0;34m\u001b[0m\u001b[0;34m\u001b[0m\u001b[0m\n\u001b[1;32m    497\u001b[0m             \u001b[0mstorage_options\u001b[0m\u001b[0;34m=\u001b[0m\u001b[0mstorage_options\u001b[0m\u001b[0;34m,\u001b[0m\u001b[0;34m\u001b[0m\u001b[0;34m\u001b[0m\u001b[0m\n",
            "\u001b[0;32m/usr/local/lib/python3.10/dist-packages/pandas/io/excel/_base.py\u001b[0m in \u001b[0;36m__init__\u001b[0;34m(self, path_or_buffer, engine, storage_options, engine_kwargs)\u001b[0m\n\u001b[1;32m   1548\u001b[0m                 \u001b[0mext\u001b[0m \u001b[0;34m=\u001b[0m \u001b[0;34m\"xls\"\u001b[0m\u001b[0;34m\u001b[0m\u001b[0;34m\u001b[0m\u001b[0m\n\u001b[1;32m   1549\u001b[0m             \u001b[0;32melse\u001b[0m\u001b[0;34m:\u001b[0m\u001b[0;34m\u001b[0m\u001b[0;34m\u001b[0m\u001b[0m\n\u001b[0;32m-> 1550\u001b[0;31m                 ext = inspect_excel_format(\n\u001b[0m\u001b[1;32m   1551\u001b[0m                     \u001b[0mcontent_or_path\u001b[0m\u001b[0;34m=\u001b[0m\u001b[0mpath_or_buffer\u001b[0m\u001b[0;34m,\u001b[0m \u001b[0mstorage_options\u001b[0m\u001b[0;34m=\u001b[0m\u001b[0mstorage_options\u001b[0m\u001b[0;34m\u001b[0m\u001b[0;34m\u001b[0m\u001b[0m\n\u001b[1;32m   1552\u001b[0m                 )\n",
            "\u001b[0;32m/usr/local/lib/python3.10/dist-packages/pandas/io/excel/_base.py\u001b[0m in \u001b[0;36minspect_excel_format\u001b[0;34m(content_or_path, storage_options)\u001b[0m\n\u001b[1;32m   1400\u001b[0m         \u001b[0mcontent_or_path\u001b[0m \u001b[0;34m=\u001b[0m \u001b[0mBytesIO\u001b[0m\u001b[0;34m(\u001b[0m\u001b[0mcontent_or_path\u001b[0m\u001b[0;34m)\u001b[0m\u001b[0;34m\u001b[0m\u001b[0;34m\u001b[0m\u001b[0m\n\u001b[1;32m   1401\u001b[0m \u001b[0;34m\u001b[0m\u001b[0m\n\u001b[0;32m-> 1402\u001b[0;31m     with get_handle(\n\u001b[0m\u001b[1;32m   1403\u001b[0m         \u001b[0mcontent_or_path\u001b[0m\u001b[0;34m,\u001b[0m \u001b[0;34m\"rb\"\u001b[0m\u001b[0;34m,\u001b[0m \u001b[0mstorage_options\u001b[0m\u001b[0;34m=\u001b[0m\u001b[0mstorage_options\u001b[0m\u001b[0;34m,\u001b[0m \u001b[0mis_text\u001b[0m\u001b[0;34m=\u001b[0m\u001b[0;32mFalse\u001b[0m\u001b[0;34m\u001b[0m\u001b[0;34m\u001b[0m\u001b[0m\n\u001b[1;32m   1404\u001b[0m     ) as handle:\n",
            "\u001b[0;32m/usr/local/lib/python3.10/dist-packages/pandas/io/common.py\u001b[0m in \u001b[0;36mget_handle\u001b[0;34m(path_or_buf, mode, encoding, compression, memory_map, is_text, errors, storage_options)\u001b[0m\n\u001b[1;32m    880\u001b[0m         \u001b[0;32melse\u001b[0m\u001b[0;34m:\u001b[0m\u001b[0;34m\u001b[0m\u001b[0;34m\u001b[0m\u001b[0m\n\u001b[1;32m    881\u001b[0m             \u001b[0;31m# Binary mode\u001b[0m\u001b[0;34m\u001b[0m\u001b[0;34m\u001b[0m\u001b[0m\n\u001b[0;32m--> 882\u001b[0;31m             \u001b[0mhandle\u001b[0m \u001b[0;34m=\u001b[0m \u001b[0mopen\u001b[0m\u001b[0;34m(\u001b[0m\u001b[0mhandle\u001b[0m\u001b[0;34m,\u001b[0m \u001b[0mioargs\u001b[0m\u001b[0;34m.\u001b[0m\u001b[0mmode\u001b[0m\u001b[0;34m)\u001b[0m\u001b[0;34m\u001b[0m\u001b[0;34m\u001b[0m\u001b[0m\n\u001b[0m\u001b[1;32m    883\u001b[0m         \u001b[0mhandles\u001b[0m\u001b[0;34m.\u001b[0m\u001b[0mappend\u001b[0m\u001b[0;34m(\u001b[0m\u001b[0mhandle\u001b[0m\u001b[0;34m)\u001b[0m\u001b[0;34m\u001b[0m\u001b[0;34m\u001b[0m\u001b[0m\n\u001b[1;32m    884\u001b[0m \u001b[0;34m\u001b[0m\u001b[0m\n",
            "\u001b[0;31mFileNotFoundError\u001b[0m: [Errno 2] No such file or directory: '/content/drive/MyDrive/UAM/Calidad del agua /ica_sup_1.xlsx'"
          ]
        }
      ]
    },
    {
      "cell_type": "markdown",
      "source": [
        "## Entrenamiento"
      ],
      "metadata": {
        "id": "IcnIOMIAAemN"
      }
    },
    {
      "cell_type": "code",
      "source": [
        "    # es importante que exista una correlacion  entre las features y la variable que queremos predecir y no es necesarios que los features la tengan\n",
        "\n",
        "    X = ch_dbo_1_0_1.drop(['SEMAFORO', 'NUM_SEMAFORO'], axis=1)\n",
        "    y = ch_dbo_1_0_1[['NUM_SEMAFORO']]\n",
        "    reg = RandomForestRegressor()\n",
        "\n",
        "    parameters = {\n",
        "        'n_estimators': range(4, 16), # cuantos arboles compondran mi arbol\n",
        "        'criterion': ['friedman_mse', 'absolute_error'],\n",
        "        'max_depth': range(2, 11)\n",
        "    }\n",
        "\n",
        "    ### son 10 iteracion del optimizador. Toma 10 combinaciones al azar del diccionario, cv = 3, parte en 3 parte el set de datos que le pasemos, para hacer Cross validation\n",
        "    rand_est = RandomizedSearchCV(reg, parameters, n_iter = 5, cv = 3, scoring = 'neg_mean_absolute_error').fit(X, y)"
      ],
      "metadata": {
        "id": "Q1-Je0R22Zob"
      },
      "execution_count": null,
      "outputs": []
    },
    {
      "cell_type": "markdown",
      "source": [
        "## Predicciones y Pruebas"
      ],
      "metadata": {
        "id": "-aM2TJVtqjJJ"
      }
    },
    {
      "cell_type": "code",
      "source": [
        "    ## mejores estimadores y parametros\n",
        "\n",
        "    print('='*64)\n",
        "    print(\"Mejores estimadores\")\n",
        "    print('-'*64)\n",
        "    print(rand_est.best_estimator_)\n",
        "    print('='*64)\n",
        "    print(\"Mejores parametros\")\n",
        "    print('-'*64)\n",
        "    print(rand_est.best_params_)\n",
        "    print('='*64)\n",
        "\n",
        "    ## pruebas\n",
        "\n",
        "    print('Pruebas')\n",
        "    print('-'*64)\n",
        "    y_hat = rand_est.predict(X.loc[[13]])\n",
        "\n",
        "    ## datos reales\n",
        "\n",
        "    print(f'Real:    {y.loc[13]}')\n",
        "    print('='*64)\n",
        "\n",
        "    ## predicciones\n",
        "\n",
        "    print(f'Predict: {y_hat[0]}')"
      ],
      "metadata": {
        "id": "I0yDGgvh5d-E"
      },
      "execution_count": null,
      "outputs": []
    },
    {
      "cell_type": "code",
      "source": [
        "    X_test = np.array([5.58,39.92,14.175,5172.0,925.0,52.8])\n",
        "    y_pre = rand_est.predict(X_test.reshape(1, -1))\n",
        "\n",
        "    print(f'''El ICA  es:\n",
        "    Redondeo: {np.round(y_pre[0], 0)}\n",
        "    Sin redondear: {y_pre}''')"
      ],
      "metadata": {
        "id": "Lobpi-s3THQd"
      },
      "execution_count": null,
      "outputs": []
    }
  ]
}